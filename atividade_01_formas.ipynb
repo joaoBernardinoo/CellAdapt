{
  "nbformat": 4,
  "nbformat_minor": 0,
  "metadata": {
    "colab": {
      "provenance": [],
      "include_colab_link": true
    },
    "kernelspec": {
      "name": "python3",
      "display_name": "Python 3"
    }
  },
  "cells": [
    {
      "cell_type": "markdown",
      "metadata": {
        "id": "view-in-github",
        "colab_type": "text"
      },
      "source": [
        "<a href=\"https://colab.research.google.com/github/joaoBernardinoo/CellAdapt/blob/main/atividade_01_formas.ipynb\" target=\"_parent\"><img src=\"https://colab.research.google.com/assets/colab-badge.svg\" alt=\"Open In Colab\"/></a>"
      ]
    },
    {
      "cell_type": "markdown",
      "metadata": {
        "id": "qivst0V8vpQe"
      },
      "source": [
        "#**Níveis de Analise Linguistica e Análise Lexical e Morfológica Automatizada - Tokenização, Stemming e Lematização**"
      ]
    },
    {
      "cell_type": "markdown",
      "metadata": {
        "id": "Ic2dAzQo-Y9j"
      },
      "source": [
        "## Tokenização, Stemming (derivação) e Lematização\n",
        "\n",
        "### Links úteis\n",
        "\n",
        "[NLTK tutorial](https://data-flair.training/blogs/nltk-python-tutorial/)\n",
        "\n",
        "[Python stemming and lemmatization](https://data-flair.training/blogs/python-stemming/)\n",
        "\n",
        "[NLTK for portuguese](https://www.nltk.org/howto/portuguese_en.html)\n",
        "\n",
        "[Portuguese lemmatizers](https://lars76.github.io/2018/05/08/portuguese-lemmatizers.html)"
      ]
    },
    {
      "cell_type": "markdown",
      "metadata": {
        "id": "HVgJDqzj_bWq"
      },
      "source": [
        "## Sumário\n",
        "- Tokenização\n",
        "- Lematização\n",
        "- Stemming\n",
        "- Níveis de análise linguística\n",
        "  - Fonética\n",
        "  - Morfológica\n",
        "  - Sintática\n",
        "  - Semântica\n",
        "  - Pragmática\n",
        "  - Texto de exemplo\n",
        "    - Árvore de dependência"
      ]
    },
    {
      "cell_type": "markdown",
      "metadata": {
        "id": "JhZV9R4SxRsK"
      },
      "source": [
        "## Níveis de Análise Linguística\n",
        "\n",
        "<img src=\"https://images.slideplayer.com.br/40/11157777/slides/slide_39.jpg\" width=\"80%\">\n",
        "\n",
        "### Morfológica\n",
        "\n",
        "É o estudo da estrutura das palavras e suas classificações em diferentes categorias.\n",
        "\n",
        "Considere os exemplos:\n",
        "\n",
        "- árvore<br>\n",
        "- árvore<ins>s</ins><br>\n",
        "- arvore<ins>zinhas</ins><br>\n",
        "- <ins>im</ins>possível<br>\n",
        "- <ins>sobre</ins>mesa\n",
        "\n",
        "Essas palavras são formadas por morfemas, que se dividem em independentes e dependentes.\n",
        "\n",
        " - *árvore*, *possível*, *sobre* e *mesa* são **morfemas independentes**.\n",
        "\n",
        " - *s*, *zinhas* e *im* são **morfemas dependentes**.\n",
        "\n",
        "\n",
        "As palavras podem ser classificadas em partes do discurso (part-of-speech -> POS).\n",
        "\n",
        "***substantivos, verbos, adjetivos, preposições e advérbios*** são exemplos dessas partes do discurso.\n",
        "\n",
        "Essas classes também podem ser agrupadas entre:\n",
        " - abertas, que abrangem um grande número de palavras e abrigam facilmente novas entradas, como substantivos e verbos;\n",
        " - fechadas, que possuem funções gramaticais bem definidas, como artigos e preposições.\n",
        "\n",
        "\n",
        "\n",
        "### Sintática\n",
        "\n",
        "É o estudo do sentido entre as palavras bem como a sua disposição em uma frase.\n",
        "\n",
        "Com a classificação morfológica das palavras, uma análise sintática demonstra a validade do texto de acordo com a gramática empregada.\n",
        "\n",
        "A análise sintática também permite reconhecer os termos da oração:\n",
        "\n",
        "- Termos essenciais\n",
        " - Sujeito\n",
        " - Predicado\n",
        "\n",
        "- Termos integrantes\n",
        " - Complemento verbal\n",
        " - Complemento nominal\n",
        " - Agente da passiva\n",
        "\n",
        "- Acessórios\n",
        " - Adjunto adnominal\n",
        " - Adjunto adverbial\n",
        " - Aposto\n",
        "\n",
        "\n",
        "\n",
        "\n",
        "\n",
        "<img src=\"https://linguisticageralunip.files.wordpress.com/2017/11/sintaxe-volume-1-2-638.jpg\" width=\"40%\">\n",
        "\n",
        "\n",
        "\n"
      ]
    },
    {
      "cell_type": "markdown",
      "metadata": {
        "id": "cBjiV2-J9sie"
      },
      "source": [
        "### Exemplo prático\n",
        "Abaixo podemos ver na prática a execução das análises morfológicas e sintáticas e suas diferenças e relações."
      ]
    },
    {
      "cell_type": "code",
      "metadata": {
        "id": "jTIczJD7ItVX"
      },
      "source": [
        "import pickle\n",
        "import nltk\n",
        "#download do punkt e rslp (2 pacotes que serão utilizados)"
      ],
      "execution_count": null,
      "outputs": []
    },
    {
      "cell_type": "code",
      "metadata": {
        "id": "CrInbmSuTygX",
        "colab": {
          "base_uri": "https://localhost:8080/"
        },
        "outputId": "9cf9af9b-4c09-4703-b477-1a325641230c"
      },
      "source": [
        "import spacy\n",
        "\n",
        "import spacy.cli\n",
        "spacy.cli.download(\"pt_core_news_sm\")\n",
        "\n",
        "nlp = spacy.load(\"pt_core_news_sm\")"
      ],
      "execution_count": null,
      "outputs": [
        {
          "output_type": "stream",
          "name": "stdout",
          "text": [
            "\u001b[38;5;2m✔ Download and installation successful\u001b[0m\n",
            "You can now load the package via spacy.load('pt_core_news_sm')\n",
            "\u001b[38;5;3m⚠ Restart to reload dependencies\u001b[0m\n",
            "If you are in a Jupyter or Colab notebook, you may need to restart Python in\n",
            "order to load all the package's dependencies. You can do this by selecting the\n",
            "'Restart kernel' or 'Restart runtime' option.\n"
          ]
        }
      ]
    },
    {
      "cell_type": "markdown",
      "source": [
        "# Fazendo nosso próprio analisador morfológico"
      ],
      "metadata": {
        "id": "glNIFYw_n1mI"
      }
    },
    {
      "cell_type": "code",
      "source": [
        "!pip install conllu\n",
        "!wget http://marlovss.work.gd:8080/tomorrow/aula2/bosque.conllu"
      ],
      "metadata": {
        "id": "HnkdNxnCmtn8",
        "colab": {
          "base_uri": "https://localhost:8080/"
        },
        "outputId": "5b861c2a-b3a1-4efe-b867-9bf0c6ebed0c"
      },
      "execution_count": null,
      "outputs": [
        {
          "output_type": "stream",
          "name": "stdout",
          "text": [
            "Requirement already satisfied: conllu in /usr/local/lib/python3.10/dist-packages (6.0.0)\n",
            "--2024-10-22 17:43:09--  http://marlovss.work.gd:8080/tomorrow/aula2/bosque.conllu\n",
            "Resolving marlovss.work.gd (marlovss.work.gd)... 177.180.148.12\n",
            "Connecting to marlovss.work.gd (marlovss.work.gd)|177.180.148.12|:8080... connected.\n",
            "HTTP request sent, awaiting response... 200 OK\n",
            "Length: 11291250 (11M)\n",
            "Saving to: ‘bosque.conllu.1’\n",
            "\n",
            "bosque.conllu.1     100%[===================>]  10.77M  1.85MB/s    in 11s     \n",
            "\n",
            "2024-10-22 17:43:20 (1.02 MB/s) - ‘bosque.conllu.1’ saved [11291250/11291250]\n",
            "\n"
          ]
        }
      ]
    },
    {
      "cell_type": "code",
      "source": [
        "import conllu\n",
        "import itertools as it\n",
        "\n",
        "class AttributeDict(dict):\n",
        "    __getattr__ = dict.__getitem__\n",
        "    __setattr__ = dict.__setitem__\n",
        "    __delattr__ = dict.__delitem__\n",
        "\n",
        "\n",
        "class CoNLLU:\n",
        "   def __init__(self, files):\n",
        "      self.words = []\n",
        "      self.sentences = []\n",
        "      for f in files:\n",
        "         parsed = conllu.parse(open(f).read())\n",
        "         sents = [[AttributeDict(form = token['form'], lemma=token['lemma'],pos=token['upos'],feats=token['feats']) for token in tokenlist if token['upos']!='_'] for tokenlist in parsed]\n",
        "         self.sentences.extend(sents)\n",
        "         self.words.extend([word for sent in sents for word in sent])\n",
        "      self.pos_tags = set([word.pos for word in self.words])\n",
        "      self.feats_dict ={pos:set(it.chain.from_iterable([list(word.feats.keys()) for word in self.words if word.pos==pos and word.feats!= None])) for pos in self.pos_tags}\n"
      ],
      "metadata": {
        "id": "6whsxfkKmTnz"
      },
      "execution_count": null,
      "outputs": []
    },
    {
      "cell_type": "code",
      "source": [
        "bosque = CoNLLU(files=[\"bosque.conllu\"])"
      ],
      "metadata": {
        "id": "JY5mcN4Em2zK"
      },
      "execution_count": null,
      "outputs": []
    },
    {
      "cell_type": "markdown",
      "source": [
        "## Vamos começar com um etiquetador morfossintático (POS tagger).\n",
        "\n",
        "Um etiquetador morfossintático tem por objetivo identificar a classe gramatical das palavras em uma sentença, ou conjunto de sentenças. Por exemplo, considere a frase:\n",
        "\n",
        "O rato roeu a roupa do rei de Roma.\n",
        "\n",
        "Após tokenizada, temos:\n",
        "O, rato, roeu, a, roupa, de, o, rei, de, Roma\n",
        "\n",
        "O resultado do etiquetador sobre esse conjunto é:\n",
        "(O, DET), (rato, NOUN), (roeu, VERB), (a, DET), (roupa, NOUN), (de, ADP), (o,DET), (rei, NOUN), (de, ADP), (Roma, PROPN)\n",
        "\n",
        "O conjunto de etiquetas (tagset) que descrevem as classes gramaticais é determinado no projeto do corpus e **não constituem um conjunto universal ou objetivo**, mas uma decisão teórico-metodológica do projeto.\n",
        "\n",
        "---\n",
        "\n"
      ],
      "metadata": {
        "id": "s8coMQj3nyJI"
      }
    },
    {
      "cell_type": "code",
      "source": [
        "from google.colab import drive\n",
        "drive.mount('/content/drive')"
      ],
      "metadata": {
        "colab": {
          "base_uri": "https://localhost:8080/"
        },
        "id": "8WVh1k8jhWeY",
        "outputId": "c20073e3-1caa-401d-f5e2-e86157021ddc"
      },
      "execution_count": null,
      "outputs": [
        {
          "output_type": "stream",
          "name": "stdout",
          "text": [
            "Drive already mounted at /content/drive; to attempt to forcibly remount, call drive.mount(\"/content/drive\", force_remount=True).\n"
          ]
        }
      ]
    },
    {
      "cell_type": "code",
      "source": [],
      "metadata": {
        "id": "Xdp6mD8SMYkH"
      },
      "execution_count": 135,
      "outputs": []
    },
    {
      "cell_type": "code",
      "source": [],
      "metadata": {
        "id": "oP3ZlXzTZeRS"
      },
      "execution_count": null,
      "outputs": []
    },
    {
      "cell_type": "code",
      "source": [
        "from nltk.probability import FreqDist\n",
        "suffixes = set([word.form.lower()[-3:] for word in bosque.words])\n"
      ],
      "metadata": {
        "id": "7Hm33XPLszLa"
      },
      "execution_count": null,
      "outputs": []
    },
    {
      "cell_type": "code",
      "source": [
        "#suf_to_tag = {suf:FreqDist([word.pos for word in bosque.words if word.form.lower()[-3:]==suf]).max() for suf in suffixes}"
      ],
      "metadata": {
        "id": "8TXGTGCISoZE"
      },
      "execution_count": null,
      "outputs": []
    },
    {
      "cell_type": "code",
      "source": [
        "with open('/content/drive/MyDrive/Colab Notebooks/suf_to_tag.pkl', 'rb') as f:\n",
        "    suf_to_tag = pickle.load(f)"
      ],
      "metadata": {
        "id": "vTQGAjYJjcUS"
      },
      "execution_count": null,
      "outputs": []
    },
    {
      "cell_type": "code",
      "source": [
        "print(suffixes)"
      ],
      "metadata": {
        "colab": {
          "base_uri": "https://localhost:8080/"
        },
        "id": "kySKeykrN26-",
        "outputId": "3ab73745-113b-4405-e042-f94f7549a683"
      },
      "execution_count": null,
      "outputs": [
        {
          "output_type": "stream",
          "name": "stdout",
          "text": [
            "{'ndi', ',47', 'nan', \"l'\", 'gen', 'vro', 'edã', 'ijo', 'jk', 'nó', 'fez', 'iya', 'fat', 'uki', 'ems', 'ali', 'dro', 'ptb', 'rif', \"k's\", 'lvê', '974', 'lta', 'prd', 'ibi', 'jor', 'ião', 'éus', 'nga', 'stf', 'xon', 'ens', ',03', 'rvs', 'son', 'uno', 'ubo', 'azê', '3,0', '929', 'kih', 'tsu', 'cae', '9', 'aat', 'fka', 'asy', 'sci', 'pes', 'nny', 'bwv', 'h43', 'leu', 'igi', 'pie', ',54', 'poe', \"66'\", 'com', 'onk', '0,8', 'ntz', 'ven', 'pus', 'ove', 'pin', 'te', '?', 'jol', '25', \"38'\", 'pp', '120', 'tv2', '6,7', 'aio', 'nns', 'pio', 'azz', '2-1', 'fil', '46s', 'etz', 'êra', 'ele', 'ruy', 'úva', '887', 'fc', 'jet', 'gro', 'mês', 'hon', 'hev', 'îne', 'pol', 'sye', 'odo', '94', 'aña', 'zil', 'vor', 'axi', 'sós', 'uxa', 'gis', 'uce', 'afá', 'ram', '2', 'prc', 'mpa', '/60', 'côa', 'nc.', ',', 'mit', '210', 'key', '8º', 'iaf', 'cat', 'úde', '21', 'rry', 'mic', ',52', 'kg', 'caz', 'tts', 'uém', ',96', 'trô', '783', 'ceu', 'úri', 'gui', 'riu', 'ety', '92', 'bri', 'mol', 'mis', 'rez', 'rot', 'ncy', 'eet', ',23', 'eña', 'xam', 'rni', 'ías', 'ona', 'pta', 'tat', 'ni', 'pla', 'llo', '3-1', 'sor', '69', 'sui', 'ndr', 'dia', 'guy', 'nda', 'ede', 'mos', 'gos', 'ulo', 'ano', 'hew', 'h45', ',08', 'lip', 'ics', 'gni', 'mãs', 'mes', 'qua', 'aff', 'pis', 'tti', '/95', 'let', 'hed', ',32', '536', '&', 'cki', '205', 'm.', 'ben', 'cca', 'ços', 'far', 'afo', 'cmn', 'nçá', '141', 'oia', 'xou', '..', 'ibe', 'aí', 'gda', '84', 'rv', '124', 'ppé', 'gps', 'ágs', 'mec', '300', 'puc', 'iti', 'bbc', 'vez', 'ace', 'aiz', 'edo', 'yff', '11s', '976', 'pen', '3-0', 'ogê', 'êas', 'ur', 'lto', 'uru', 'lce', '662', 'oro', 'tom', 'oda', 'ofá', 'pfl', 'ays', 'vin', 'rds', 'dão', 'drf', 'mg', '937', '051', 'ium', 'tas', 'con', '-', 'did', 'uns', 'js', 'not', 'plo', 'paz', '223', 'cd', 'fen', \"o's\", 'gd', 'rde', ',31', 'ill', 'usã', '21h', 'tuí', 'iás', 'eim', 'ugh', 'ída', '!', '-97', 'ula', 'aem', 'rêa', 'nuo', '061', 'nd.', '183', 'haw', 'alã', '0,9', 'aip', '91', '914', 'tbt', '40', 'tov', '372', 'rec', 'efa', 'urg', 'gaz', 'dur', 'keo', 'fmi', 'cci', '90', 'dev', 'y', '1', 'itz', 'çol', 'o.', \"4'\", '998', '480', 'ixe', 'col', 'taz', 'bus', 'oçá', 'fra', 'rir', 'olo', 'bee', 'soa', ',97', 'ete', '2º', 'ken', '81ª', 'ard', 'lon', 'ech', 'ocê', '2-0', 'lvi', 'ndt', 'aar', 'fém', 'exo', 'os', 'nko', 'kyo', 'xin', ',61', 'kei', 'uks', 'is:', '984', 'cud', 'rná', ',90', 'tay', 'cto', 'ziu', 'dos', 'nar', '0,1', '862', '679', '140', 'ndó', 'uai', 'quê', '46', '93', 'mpo', 'sad', 'uve', 'ptu', '.75', '427', '805', 'the', 'h50', 'eu', 'ana', 'awa', 'q1', 'nri', 'dn', 'cds', 'fun', 'aj', 'ldi', ',14', 'uta', 'sée', 'tua', 'tão', 'obe', 'tex', '500', 'bie', 'pdr', 'fla', 'rre', 'dan', '003', 'aes', 'aké', 'blo', 'lar', '47ª', 'oms', 'ips', 'foi', '0,5', 'ebi', 'xar', 'xus', 'arz', 'now', 'kwá', '600', 'ate', 'dês', 'lém', 'roz', 'iró', 'yor', '15ª', 'ike', 'ric', '3º', 'aus', '2-3', 'sil', 'tto', 'prn', 'gil', 'eel', 'ps', \"a's\", '7-5', 'phe', 'roe', 'ruz', 'h15', '.f.', 'io', ',71', 'sim', 'pt', '18h', 'rr', 'err', 'ied', 'bfe', 'uja', 'oey', 'h46', 'cpf', '15h', 'ujo', 'dne', 'oje', '0h', 'des', 'çam', '5º', 'ice', 'av.', '953', 'uaw', 'ebo', 'uzi', 'da', 'rar', 'al:', '969', 'pf', 'rnê', 'uir', 'xxi', 'rki', 'ius', 'ojo', 'tle', 'alo', 'las', 'lho', 'ono', '62', 'gfa', 'shi', 'te-', 'ólo', 'pan', 'ela', 'nso', '6,9', 'heo', 'lam', 'fôr', '983', 'ror', 'deu', '973', 'ske', 'eón', 'rto', 'for', '54', '912', 'ker', 'bés', '6º', \"7''\", 'aró', 'low', 'sô', 'rin', 'rui', 'èze', '614', 'kew', 'pec', 'bes', 'tva', 'ára', 'ati', 'ane', '325', '76', 'eux', 'zle', 'os.', 'rts', 'won', 'ick', 'urb', 'bom', 'cie', 'd+', 'way', 'cn', 'vid', 'eto', 'tes', 'ani', 'mio', 'mon', '8,3', ',56', '50', 'don', 'ver', 'ooc', 'nne', 'lmo', 'rem', '7.ª', 'vec', 'en', 'ená', 'urn', 'moz', '7-3', '.i.', 'iew', 'wie', 'no', 'viu', 'rim', 'jes', 'lin', 'ero', '/93', 'lá', 'cte', 'tc.', 'ile', 'lda', 'jic', ',62', 'ois', 'bou', '980', 'nac', 'sca', 'oma', 'fus', 'ipp', 'nea', '650', 'ein', 'vou', 'tec', '253', 'asp', 'gny', 'nae', 'pm', 'el', 'nho', '5ª', 'miê', '65', 'kit', 'rta', 'paq', 'põe', 'zer', ',05', 'tio', 'fly', '87', 'ica', 'iel', 'iev', '24º', 'léu', 'gan', 'cit', '125', 'gun', 'ntê', 'nse', 'rsu', '34', 'rop', 'all', 'nty', 'oel', 'fés', 'oxa', 'faz', '523', '1,3', 'ine', 'ept', 'iro', 'ins', 'la', 'red', 'yar', 'cfe', 'oli', 'uge', 'ulf', '949', 'mor', 'eek', '54º', 'ney', '11', 'rte', 'nal', 'eb', 'emo', 'ara', 'lum', '155', '6-2', 'fir', 'nes', '1h.', 'ene', 'nya', 'rro', 'jan', '6,1', 'peã', '-22', 'aki', '7,4', 'ows', '960', '5', 'cks', 'íso', 'lse', 'sey', 'pur', 'icn', 'çou', '1º', 'vt', 'rfe', 'rew', '986', 'you', '/94', 'cke', 'ary', 'ugo', 'mba', ',28', 'olz', '9,4', 'o', 'fim', 'gf', 'dok', '6,5', 'ect', 'han', 'uís', 'vos', 'elê', 'sáb', 'nus', 'apá', 'xos', 'tis', 'cy', 'nba', '985', 'aps', 'exa', 'ett', ',09', 'cdb', 'orá', 'jas', 'sta', 'tês', 'hem', 'opo', 'oys', 'ões', 'ará', 'tad', 'oam', '9,8', 'rce', 'naz', 'iri', 'íça', 'out', 'ori', '988', 'cek', '45s', 'lão', 'h20', 'ege', 'can', 'gay', 'ho', 'and', 'pra', '8,5', '606', 'eke', '16ª', 'ube', 'is!', 'ime', '240', '290', 'iba', 'uía', 'itá', 'cau', 'otó', '285', 'm', 'aia', 'h00', 'boé', 'dá', 'eli', 'gts', 'aiu', 'fpf', 'rau', 'esa', '3,1', 'nch', 'sel', 'nil', 'ha', 'elo', 'ufi', 'ipc', 'got', 'al', 'ges', 'pão', '/', 'vés', 'lva', '000', 'chá', 'mbi', 'ok', 'pdc', 'bbi', 'mdb', 'età', 'pos', 'sio', '00)', 'al.', 'hoi', 'vw', 'nap', 'pte', 'éad', 'pal', '60m', 'quo', 'ñoz', 'uzo', 'uys', '60', 'ray', '1,5', 'ies', 'ree', 'lia', 'ack', '-pe', 'fia', '72', '/ou', 'uzy', 'hol', '095', 'ran', 'ber', ',79', '2.9', 'lis', '16v', 'sde', 'cgd', 'zas', 'cus', '/89', 'a.', 'rmo', 'éia', '-86', 'cra', 'cmr', 'vra', 'era', 'sto', '896', 'els', 'ubs', 'ká', 'óia', 'reg', 'vil', 'cet', ',16', 'ter', '7,5', 'ist', 'oas', 'ord', 'áxi', 'spa', '979', 'spn', '58', 'p53', '4,3', 'iei', 'lg', 'nta', 'rda', 'xto', 'mal', 'elé', 'aro', 'mem', '32', 'ftp', 'eni', 'me', '3,6', 'nit', 'cut', '46º', '[', 'asa', '15m', '17', 'lim', 'iii', ',82', 'akh', 'ra.', 'di', '97', 'hbo', '19', 'pc', 'giz', 'tel', 'fer', '4x2', 'top', '.c.', 'sá', 'iga', '16', 'mpf', 'bbo', 'cdu', 'ue', 'nfo', 'imo', 'irs', 'dal', '.j.', 'mpt', '8ª', 'eba', 'em', 'vêm', 'ily', '61', '3-2', 'íço', 'ark', 'céu', 'sue', 'auí', '577', 'eas', 'rne', '6.0', 'bao', 'g7', 'kin', 'trá', 'nês', 'eng', 'zan', 'amb', '.r.', ',55', '67ª', 'eco', 'dj', 'che', 'p', 'saw', 'bci', 'tvi', 'nhe', 'una', 'bié', 'etc', ',45', 'rtp', 'esh', 'já', '9,2', 'ah', 'ccb', '2,9', 'vis', 'ts.', 'bis', '42ª', 'kva', 'tãs', '7h', 'arn', 'ton', 'nça', 'sos', 'dam', 'ína', '730', '972', 'u$', '895', 'run', 'oar', 'ita', '81', '12', 'tim', 'rja', '3-6', 'evo', ',26', 'fiz', 'nle', 'aju', '4-3', '122', '195', 'jos', 'az!', 'eça', 'xal', 'mum', 'erã', 'afp', 'ury', ',15', '74', '.g.', 'eru', 'och', 'nua', 'tiv', '8h', 'ngº', 'tvs', 'fao', 'net', 'ovo', 'cip', 'to', 'ima', 'izo', 'aós', 'xem', 'por', 'fta', 'xta', 'aga', 'ast', 'nna', 'vot', 'cko', 'sax', 'lah', '199', 'tab', 'fne', 'sc', 'pb', 'pre', '498', 'ant', 'ons', 'ecu', 'até', '297', '15', 'ng.', 'tor', '3ª', 'tag', 'uya', '150', 'avô', 'sip', 'lte', 'wry', 'olã', 'ser', 'oga', 'ffi', 'rks', \"r.'\", 'lio', 'zul', '2-6', 'yam', 'bas', 'ofo', 'dê', '7ª', '/96', 'itt', 'é', 'bpa', 'ex', 'rãs', 'ppe', 'alá', 'pcp', 'rno', 'sir', 'clo', '59', 'péu', 'van', 'rma', 'rlf', 'iza', 'fib', 'iná', 'osé', ',06', 'ife', ',78', '2,3', 'bém', '667', 'tru', '146', 'rpf', 'gia', 'crê', 'yol', '213', 'ala', 'cla', 'aça', 'oão', 'mpe', 'tst', 'nuá', 'nka', '913', 'rai', 'hit', '-sc', 'gus', 'uji', 'stj', \"0''\", 'vda', 'ryd', '-pb', 'ous', 'tof', 'rst', 'nhá', 'vre', 'xel', 'nte', 'vic', 'erj', 'oot', '2ª', 'upe', 'rbo', 'jr.', '52', \"83'\", 'urt', 'ola', 'ix', 'im', 'kuo', 'owa', 'aul', 'luz', 'bla', 'isá', 'exe', 'uar', 'hio', 'oou', 'ryx', 'lid', 'chu', 'gri', 'ezy', 'uga', 'ans', 'óli', 'niu', '310', 'oyd', '-13', 'tea', 'psa', 'fdm', '997', 'cr', 'dré', '313', 'nhã', 'enn', '249', 'uto', 'bly', 'cor', 'joe', 'éon', 'j.', 'nin', 'sa', '38', 'rço', 'lac', 'lee', 'azo', 'my', 'eou', 'fay', 'ral', 'eze', 'fa»', '10h', 'ees', '179', 'tse', 'vit', ',83', 'dri', 'fãs', 'gti', 'slo', 'sau', 'liu', '301', 'gne', '.m.', 'de', 'dge', ',07', '323', 'mge', 'sus', ';', 'wen', 'ra,', 'do', '920', 'ith', '995', 'tal', 'itê', 'fin', 'cco', 'ang', '384', 'duo', 'use', 'ome', 'ger', 'ple', '(b)', 'rab', 'pav', 'ish', 'nue', '27º', 'ová', 'ído', '978', 'oki', 'bro', 'ffy', 'aid', 'jou', 'ead', 'aha', 'box', 'djy', 'nel', 'lei', \"'94\", 'hiv', 'ape', 'lsa', '1-1', 'll', '6,3', 'nzo', 'ond', 'ba', 'mbe', 'dr.', 'mãe', '6/1', '7,8', 'evi', 'avy', 'our', 'ota', 'rém', 'lli', 'ets', 'cha', '383', 'zio', 'rae', 'afu', 'íbe', '9º', 'fui', 'ág.', ',69', 'rss', 'den', 'ame', 'iss', 'aía', 'had', 'ses', '19ª', 'meá', 'eno', 'sur', 'afe', 'ifa', 'tap', 'usa', 'ada', 'tjm', 'ted', 'fef', 'arc', 'zos', '70m', 'der', 'e.', 'ici', '5,5', 'ama', '9,3', 'cup', 'pax', 'ii:', 'dio', 'rio', 'ôos', 'uit', 'foz', 'cht', 'cro', 'pôs', '2-4', 'amm', 'ces', 'noa', 'lgo', 'mia', 'ocs', 'm/h', '30', 'xas', 'ai', 'eve', 'j&r', 'psd', 'ume', 'rie', 'hia', 'hf', 'ízo', ',58', 'mus', 'amê', 'stã', \"n't\", 'eos', 'uro', 'hvi', 'jú', 'f-1', 'cpi', 'tir', 'apa', 'rói', 'ios', 'eci', 'rlo', 'rge', 'ott', '3,3', '3h', 'ibu', 'rad', '2-2', 'rvá', 'jam', 'ols', 'siv', 'jim', 'ach', '178', 'sky', 'iot', 'ika', 'lem', 'eil', 'eri', 'ade', '/91', 'tem', 'ou', '73s', 'ail', 'art', 'ese', 'mão', '343', 'kim', 'que', 'ca3', '250', 'ody', 'ndo', '585', 'rra', '2x1', 'nza', 'rme', '-10', '4,0', '470', 'ham', '996', '(s)', '133', 'ipi', 'omb', 'uaí', 'cee', '6', 'uis', 'anc', '176', 'ery', 'rso', ',77', 'axa', '0,4', 'êlo', 'usp', 'gás', 'urv', 'vôo', 'bar', 'tan', 'zem', 'bye', 'val', 'rga', 'sex', 'dex', 'ire', '-20', 'pau', 'z', 'uão', 'cía', 'cma', 'vaz', 'lpa', 'bui', ',30', '8,6', 'old', 'e', 'asé', 'uth', 'zir', 'isa', '47º', 'rão', '99', 'ic5', 'mer', 'mbo', 'gel', '277', 'efe', '111', 'umi', 'guo', 'evá', '946', 'pib', '/97', 'sol', 'spe', 'deo', 'gue', 'oly', 'mm', '7,6', 'ata', 'rdi', 'eot', '1,7', 'réa', 'aya', 'rça', \"d's\", 'açá', 'lus', 'ell', '828', 'r$', 'bop', 'erá', 'ros', '22ª', 'nim', 'del', 'aek', 'day', 'pá', 'pei', '130', '17º', 'ale', 'mir', 'etê', 'bc', 'cs.', 'ive', 'oit', 'own', 'sê', 'les', 'apo', 'ste', 'nu', '7,3', 'irã', 'dov', 'kum', 'air', 'qca', 'lma', 'k', 'ães', 'rse', 'kip', '71', 'ic', 'ema', '35', '230', 'txa', \"e's\", 'lme', 'teu', 'lu', 'eau', 'rna', '%', 'n', 'via', 'aba', 'voa', 'ini', 'mea', '991', '666', 'mst', 'oaz', 'ic1', 'nce', 'dez', 'ige', '17h', 'tá', 'ngs', 'c.', 'olf', 'eãs', 'par', ',65', 'olm', ',94', 'eur', 'geu', 'nad', 'bio', 'poo', 'tó', 'ess', 'pic', 'sea', 'óie', '260', 'em,', 'gra', 'mar', 'ece', '16s', 'tuo', 'gio', 'sme', 'v-a', 'oio', '14', 'est', 'kny', '-só', 'cne', 'hes', '002', '--', 'cr$', '822', 'aoi', 'kaa', 'nei', 'lo', 'ite', 'kki', 'lom', 'bnu', 'cef', 'duz', 'ope', 'ing', 'bad', 'uds', '100', 'nsk', 'ode', 'yan', 'var', 'in', 'ndy', 'dun', '45', 'cle', 'nº.', 'nor', 'tei', 'ait', 'xi', '-ap', 'zis', 'ake', '999', 'ura', '215', 'tou', ',02', 'vat', 'eak', 'ó', '989', 'pme', '-tv', 'lil', '31s', 'ial', 'soc', 'ony', 'nov', 'tia', 'ida', 'éc.', 'tta', 'fpb', 'hoc', 'nci', 'rsa', 'gnr', '145', 'bbs', 'ifo', 'ild', '6-4', '98', 'ohn', 'oço', '284', ',48', 'afé', 'taí', 'mbu', 'aka', 'iso', 'mps', 'uiz', '80', 'set', 'cuo', '521', 'fé', 's/a', 'ley', '-94', ',91', 'mtu', 'fos', 'reo', '925', 'sut', 'nº', '11v', 'pe', 'dow', '981', 'mmy', 'isy', '371', '68', '994', 'née', 'pso', 'uia', 'hie', '6,8', 'ieu', 'nks', 'óem', 'ryn', 'tr', 'íra', 'ofe', 'rpe', 'úne', 'acá', 'icy', 'oça', 'são', '-95', 'cil', '542', '9,6', 'am', 'ino', '225', '128', 'lya', 'kos', 'lub', 'und', '3,8', 'pj', 'd', 'bcp', 'sma', 'uza', 'tlo', 'pcc', 'tin', '926', 'reí', 'ked', 'ldt', 'ria', '6-1', 'eão', 'niv', 'orp', 'if', ',00', 'gar', '-91', 'ebe', '004', 'amp', 'azi', 'vio', 'bel', 'peu', 'rle', '661', 'rbs', 'hp', 'tol', 'max', 'om.', 'igh', 'cém', 'rba', 'cá', 'tos', 'têm', \"y's\", 'gor', 'aço', 'zar', '9,5', 'sua', 'bch', 'bmg', \"d'\", 'hel', 'nti', 'ynn', 'uíu', 'mim', 'vós', 'c-r', '750', 'lço', 'fel', 'ixa', '».', 'koi', 'ico', '105', 'mam', '1-0', 'jn', '422', 'rás', 'oui', 'dul', 'sar', 'she', 'iné', 'st.', 'zé', 'nir', '381', '1,4', 'tao', 'bmw', '3,2', 'rug', 'het', 'sei', 'jiu', 'pr', 'cão', '4,5', 'bb', 'ain', 'oha', 'tty', '810', 'ory', '11º', 'riz', '57', 'nge', 'doa', 'nry', 'udi', 'pcs', 'aty', 'it', 'irt', 'br', 'go', 'ops', 'aís', 'pro', 't.', 'edp', '875', 'os,', 'see', 'lix', 'hor', 'or,', '86', 'qu', 'som', '4,9', 'abe', 'us', 's', '109', 'odt', 'rdo', '.00', 'eso', 'ogo', 'etr', 'ogi', 'ado', ',41', 'iño', 'ars', '2,7', 'oom', '-rs', 'uel', 'clã', '8', 'ito', 'sai', 'avo', '11h', '4,7', '4d', '/92', 'upo', 'seu', ']', '593', 'ldo', 'til', 'mou', 'oja', 'ong', 'tê', 'íli', 'eua', '57s', 'ipa', 'ior', 'cai', 'eu,', ',27', 'p.', '218', 'lde', 'apé', 'f.', '800', '228', 'jud', '51', 'm&f', ',18', 'alp', 'pac', ',72', 'dna', 'oze', '957', 'oke', 'cos', '79', 'gtp', 'us$', 'hki', 'tiu', 'rt.', '987', 'cap', 'aso', '6-0', 'ova', 'fio', 'rov', 'ssy', ',44', 'cal', 'cas', '8,8', 'ddy', '1m', 'xão', 'dfa', 'ora', 'unk', 'lel', 'otr', 'acs', 'nl', 'fse', '/mg', 'gna', 'abc', 'lfa', 'oft', '170', 'ize', 'rch', '961', '011', 'lhã', 'ear', '34s', 'lir', '1.', 'cj', 'ble', 'ami', 'agi', '88º', '138', '676', 'ego', 'opa', 'hot', 'ock', 'pca', 'ehr', 'atu', ',95', 'urf', 'raz', 'iv2', 'ato', 'age', 'bby', 'lve', 'adá', 'eia', 'met', 'ixo', 'ban', 'lín', 'lat', '801', ',87', 'sic', '16h', 'kry', '30ª', 'dis', 'pé', 'meo', 'voz', 'ten', 'dac', 'iça', 'âni', 'crn', 'iam', 'rky', 'coe', 'esi', 'téz', 'loz', 'tum', 'anã', '668', ',34', '64', '8,1', '353', 'ign', 'rs', 'fie', 'tók', 'off', 'ti', 'itã', '115', 'lôs', \"6''\", 'lly', '45º', 'lef', 'ron', '772', 'só', '24', '31', 'inn', 'tro', '182', '923', 'uam', 'smo', 'uck', '630', '0.5', 'gre', 'cia', '5º.', 'ssi', 'fnm', 'umy', 'pom', 'rum', 'sch', 'nix', 'çar', 'rer', 'ret', '127', 'rvé', 'eor', 're»', 'alé', 'lla', 'roa', 'et', 'zia', 'il', 'pet', 'lua', 'duc', 'h55', 'ira', 'so', 'nam', 'hc', '02m', 'cio', 'gov', 'õem', 'orn', 'nde', 'hum', 'urs', 'ska', 'hão', 'oby', '53', '3,4', 'atê', 'eth', '4º', 'rus', 'emã', 'upa', 'maz', 'rty', '85', '776', 'lco', 'lha', 'ier', 'reu', 'cês', 'ams', 'öen', 'oea', 'hao', 'up', 'esp', 'aux', 'l', 'har', '386', '26', 'nie', 'pel', '68)', 'hau', 'bdo', 'scu', 'tho', 'alt', 'aja', 'api', 'say', 'amo', 'grá', 'enc', 'pri', 'iie', 'bir', 'tiã', '154', 'rol', 'din', 'her', 'kee', 'sia', '73', 'eje', 'neu', 'meu', 'fan', 'num', 'ipo', 'ity', 'oci', ',76', 'usl', 'bal', 'aca', 'ich', 'vea', 'rla', 'abo', '27', 'stá', 'vá', '309', 'iru', 'rik', 'oir', 'evê', '514', '0,3', 'pot', 'r', 'oco', '7', 'xvi', '10', 'ibm', 'lça', 'rgi', 'ihe', 'gol', '18', 'h41', 'lex', 'eep', 'cob', 'sef', ',57', '20', 'ité', '5,4', 'nis', '5.2', '2,5', 'ag', 'sez', 'nts', 'tpc', '327', 'hui', 'ava', 'éns', 'rês', 'ght', 'teo', 'oza', 'fre', 'rea', 'oge', 'omc', 'liz', 'idi', 'aum', 'rua', 'èes', ',98', '963', 'nco', 'ssa', ',25', 'lfe', 'ago', '962', 'psb', 'gsi', 'lle', 'wer', 'tam', '440', 'an', 'mp', 'hur', 'zza', 'rof', 'eat', 'ugt', 'kol', 'lti', 'get', 'mi', 'fbi', '425', '6-3', 'eys', '00m', 'lou', 'zém', 'opp', 'uhi', '-ce', 'lez', 'gma', 'sal', 'iva', 'res', '4-0', 'vie', 'pas', 'von', 'újo', 'tiz', '104', 'nos', 'kov', '-mg', '271', 'rm', '6,6', '359', 'rei', 'zzi', 'win', 'hov', 'egã', 'emi', 'tdf', 'ads', 'ash', 'un', 'sul', '75', 'obo', 'bt4', 'dou', 'rfo', 'aig', 'unn', 'iés', 'ptc', 'el.', 'mac', 'mph', 'éis', 'otá', '2,2', 'obô', 'ood', 'umo', 'à', 'oer', ',84', 'sis', 'ras', 'm2', 'sdb', 'eda', 'ote', '36', 'ias', 'gua', 'ork', '29', 'cf.', 'ase', 'eva', 'hoz', 'rey', 'rah', '42', 'pai', 'fax', 'aco', 'owe', 'aut', 'hou', '055', 'ude', 'vi', 'nha', '89', 'uem', 'as', 'aim', '*', 'eck', '970', 'nas', 'car', 'ère', 'iem', '39', 'ufm', 'ods', 'eam', 'oup', 'sso', '33', 'lx', 'rld', 'eld', 'oto', 'dar', ':', 'rti', 'ung', 'se', 'nsi', 'zum', 'sem', 'sse', 'y10', 'izz', '4,6', 'gum', 'jão', 'ris', 'ort', 'pps', 'ção', 'xis', 'tic', 'uio', '108', 'esc', 'oll', 'ult', 'gão', ',37', 'pés', '-me', '405', 'r.', ',40', 'bob', 'ccn', 'ivo', '836', 'dim', '605', 'oce', '-am', ',66', '0-0', 'xiv', 'ues', 'pop', 'fpj', 'mtv', 'bin', 'omp', 'uiu', '975', 'giu', 'eph', '906', 'aré', '4º.', 'aud', 'rby', 'ed.', 'pó', 'cna', 'zou', 'nic', 'udn', ',10', 'tre', 'ggy', 'aac', 'hei', '001', '142', 'pdt', '1,8', '2,8', 'rly', 'aos', ',59', 'pov', '2,1', 'tip', 'ipm', '482', 'ilo', 'atp', 'cta', 'pós', '576', 'sr.', 'ski', '1,6', 'phy', 'um', 'lês', 'mil', 'nbc', 'tus', 'h25', 'lay', 'ms', 'uxo', 'pir', 'sec', '6.2', 'adi', 'ãos', 'fei', 'ont', 'ck»', '2,6', 'rl?', '-98', '402', 'ubá', 'ilk', 'uva', 'lau', 'lls', 'nra', 'cir', 'vê', '3º.', 'yme', '739', 'diz', 'neo', 'uda', 'cre', 'xer', 'lie', 'uxe', 'erk', 'nia', 'ao', 'izá', 'ors', 'çal', 'pás', 'igo', 'arl', 'luf', 'eus', 'or', 'íba', 'dir', '134', 'eme', 'd.', 'tau', 'alô', 'ler', 'arx', 'cms', 'ndá', 'mur', 'sha', '103', 'ils', 'pnv', '«', 'h10', '320', 'los', 'rca', 'ise', 'mae', '9h', '212', '48º', 'web', '4', '...', 'ahu', '-ba', 'ian', 'gou', 'med', 'yes', 'na', 'ugu', 'ust', 'ggi', 'tah', 'qi', 'ent', '13ª', \"a'a\", 'iak', 'gir', 'hen', '740', 'on', 'nze', '44', 'lpe', 'ejo', 'ool', 'utá', 'rth', '3/2', 'pem', 'kzo', 'acm', 'tc', 'cho', 'ndé', 'oxo', 'pmf', 'cam', 'v', '20h', 'cml', '»', '110', 'een', '7-1', 'bd', '.há', 'hos', 'ann', 'ouz', ',80', 'sen', 'iço', '380', 'xes', '910', '83', 'uor', 'eti', 'vei', 'rpr', 'bac', 'oró', \"'\", '149', ',12', 'une', 'cc', '048', 'hez', 'rpa', 'ere', 'yne', 'rom', 'nem', 'rcd', 'rnô', 'fda', '408', 'tch', 'vêa', 'oon', '889', 'are', '400', '700', 't', 'c', 'tri', 'oni', '13', 'dka', 'aph', '23h', '/20', 'osa', 'aub', 'guá', 'zón', 'uss', '(', 'eal', '.', 'ost', 'too', 'rgo', 'km2', 'khs', 'rac', 'afa', 'str', 'bia', 'ma', 'lot', 'nez', '990', '67', 'eef', 'tar', 'eio', 'uei', 'nec', 'alm', 'seg', 'leo', 'fu', 'le', 'ieg', '200', 'bem', 'afi', 'ir', 'nao', 'uan', 'xix', \"n's\", 'b', 'ids', '25m', 'ute', 'iou', 'a', 'dad', 'cic', 'cbs', '82', 'rap', '948', 'sp', 'nou', '63', 'aná', '7-6', 'gno', 'ift', 'uês', '5,1', 'cdi', 'qui', 'ny', 'açu', '511', 'toy', 'diu', '/84', 'uos', 'mau', '95', 'mpê', 'vem', 'amá', 'edi', 'ii', 'pré', 'ose', 'goa', 'hak', 'miu', 'c-a', 'oa', 'oca', 'yer', 'déu', 'iv', 'enu', '-40', 'ush', 'ina', 'uek', ',85', 'lfo', 'i', 'naa', 'ila', 'als', 'ar', 'ure', '817', 'sco', 'es»', 'men', 'ngo', 'ido', 'jay', '350', 'nja', 'aza', 'vel', 'tmo', 'nós', 'onx', 'ega', 'ipe', '55', 'lga', '7º', 'aho', 'rva', 'hey', 'ual', '993', 'vii', 'osh', 'dga', '43', '55s', 'dax', \"8''\", 'frê', 'sce', 'rid', 'eca', '126', 'pia', 'coa', 'niz', 'jek', 'ave', 'rpo', '964', 'lui', 'lop', 'cei', '292', 'nio', 'eço', 'fah', '20ª', 'kie', 'íam', '.p.', '433', 'cep', '1ª', '160', 'tte', 'how', 'úda', 'oor', 'ais', 'rvo', '204', 'pto', 'rag', 'hal', '11)', '298', 'das', 'fhc', 'lhe', 'bei', '49', 'elô', 'ivô', 'vam', 'tur', 'gp', '47', 'ole', 'ísa', 'noi', 'xpo', 'gas', 'cel', 'rco', 'yce', 'bra', 'uez', 'org', 'yee', 'réu', 'jit', 'boy', 'bua', 'sas', 'gat', \"in'\", 'mel', 'ena', ',36', 'pdm', 'km', 'dke', 'aa', 'bai', 'ip3', 'chi', '3,5', '.s.', 'ôme', 'gcp', 'cer', 'jfk', 'upp', 'ivi', 'rmã', 'san', \"t's\", 'lyn', '602', '180', ',92', 'int', 'axá', 'imi', 'jii', 'má', 'pv', '034', ',43', 'ax', 'dra', 'oim', '0', 'try', 'fas', '982', '850', '185', 'wyn', 'bil', 'ket', 'gem', 'amy', 'não', 'new', '346', 'tv', 'nmp', 'lp', 'pôr', '8,7', 'omé', 'att', 'a-1', 'nsa', 'hma', 'cde', 'ril', ')', 'odó', 'jum', 'hat', 'ôde', 'iar', 'oss', 'prí', 'sou', 'bvl', 'tém', '7,9', '132', 'chy', 'féu', 'edy', 'dor', 'jah', 'ers', 'eon', 'oso', 'ari', 'per', '5,7', 'oía', '-27', 'ats', 'rmg', 'lor', 'hek', 'jo', '1.6', 'zim', 'ija', 'nst', '1,2', 'ald', 'pam', 'bor', 'eja', 'ia', 'olp', '14ª', 'zam', \"2''\", 'hop', '5,8', '18ª', 'uri', '5.1', 'has', 'boa', 'lan', 'ohl', 'rés', 'ppo', 'udo', 'eer', 'íza', 'uma', 'ean', 'uer', '7,7', '22h', 'oal', 'údo', 'of', '14h', 'eis', 'sin', 'vai', 'uso', 'zei', 'dem', 'sam', '.0c', 'bf', 'dei', 'nik', 'cou', '4,2', '900', '458', 'rou', '777', 'eta', 'psp', 'uca', 'pou', 'rve', 'kus', 'êem', '77', 'ook', 'elp', 'ank', 'ce', 'dja', 'roy', 'ael', 'yon', '280', 'hty', 'uka', 'row', 'jab', '-sp', '.k.', 'is', 'vim', 'mat', 'dbs', '933', 'veu', 'gei', 'bau', 'hdl', 'cf1', 'fut', 'lso', 'buí', '7,1', 'ves', 'a-2', '34)', 'ien', 'kar', 'nço', '094', 'spp', 'vém', 's.', 'man', 'kan', 'zni', 'kou', 'oya', '22', 'len', '788', 'orf', 'eza', '0-1', ',60', 'wat', 'nca', 'beu', 'fes', '23', '329', 'uvi', 'gqa', 'cuz', '66', 'bge', 'his', 'gal', 'lgá', 'uba', 'tra', 'aúl', '592', 'zzo', 'one', 'cua', 'yla', '4h', '22m', 'pl', 'rev', 'aer', '3-3', 'ner', 'ndú', 'ert', 'eff', 'tui', 'abu', 'u', 'tmg', 'raó', 'bol', 'ind', 'ças', 'onu', 'vão', '930', 'más', 'ip1', 'lue', 'bav', '2º.', 'kaz', 'x', '-78', 'at', 'eem', 'awn', 'fã', 'biu', 'ion', 'bed', 'uim', 'cbf', 'non', '-92', 'nro', 'bre', '737', 'lec', 'tue', 'ppr', 'xia', 'ore', 'pcr', '37', '77ª', 'fgv', 'zes', 'vir', 'uzí', '3', 'exy', 'heu', 'gam', 'mas', 'ipé', '19h', 'lpi', 'jmt', '4-1', 'igc', 'uco', 'min', '958', 'bos', 'ern', '70', 'rox', 'uou', 'h30', 'sox', '48', '992', 'ass', '66º', 'ide', '95ª', '5,2', 'uas', '971', 'sob', '41', 'dom', '840', 'há', 'gae', 'bum', 'pi', 'li', '1º.', 'mix', 'erg', '3,7', 'omo', '33ª', 'pse', 'lag', 'ia.', 'gs.', 'big', 'jar', 'iul', '909', 'hai', 'bam', 'dre', 'irá', 'si', 'óis', \"n'\", ',50', 'nto', '234', 'cem', 'zão', 'oic', 'pea', 'bul', 'ath', ',70', 'gle', 'vas', '28', 'ulu', 'fm', 'lvo', 'spo'}\n"
          ]
        }
      ]
    },
    {
      "cell_type": "code",
      "source": [
        "print(suf_to_tag)"
      ],
      "metadata": {
        "colab": {
          "base_uri": "https://localhost:8080/"
        },
        "id": "HvG1eL6FFefH",
        "outputId": "db51d9fa-57f6-4cd8-84ab-e25c3ee94fe4"
      },
      "execution_count": null,
      "outputs": [
        {
          "output_type": "stream",
          "name": "stdout",
          "text": [
            "{'m.': 'PROPN', 'uía': 'VERB', 'l': 'PROPN', 'ays': 'PROPN', '909': 'NUM', '3-3': 'NUM', '42': 'NUM', 'la': 'PRON', 'fta': 'NOUN', 'ald': 'PROPN', 'cht': 'PROPN', 'cr$': 'SYM', '889': 'NUM', '602': 'NUM', 'vas': 'ADJ', 'man': 'PROPN', 'eña': 'PROPN', 'trá': 'VERB', 'owe': 'PROPN', 'ael': 'PROPN', '051': 'NUM', '69': 'NUM', 'jet': 'X', 'até': 'ADP', 'see': 'PROPN', 'née': 'NOUN', 'onx': 'PROPN', '6.2': 'NUM', 'hew': 'PROPN', '12': 'NUM', '810': 'PROPN', 'rêa': 'PROPN', 'uja': 'DET', 'fly': 'PROPN', 'zão': 'NOUN', 'oki': 'PROPN', 'voz': 'NOUN', 'sê': 'AUX', 'taz': 'NOUN', '7,9': 'NUM', 'ott': 'PROPN', ',92': 'NUM', '30': 'NUM', 'tre': 'ADP', 'pam': 'VERB', 'mpe': 'VERB', 'and': 'PROPN', ',95': 'NUM', 'c': 'NOUN', 'bou': 'VERB', '7,7': 'NUM', 'hvi': 'PROPN', 'ixa': 'NOUN', 'dan': 'PROPN', '4º.': 'ADJ', 'lto': 'NOUN', '4x2': 'NOUN', 'izá': 'VERB', 'spe': 'PROPN', 'st.': 'PROPN', 'ffi': 'PROPN', 'pei': 'VERB', 'ets': 'PROPN', '10h': 'NOUN', '104': 'NUM', 'unn': 'PROPN', 'bie': 'PROPN', 'rum': 'NOUN', 'len': 'PROPN', 'oxa': 'NOUN', '3,3': 'NUM', 'ase': 'NOUN', '925': 'NUM', 'eti': 'PROPN', '3,6': 'NUM', 'up': 'PROPN', '-91': 'NUM', '-98': 'PROPN', 'dok': 'PROPN', 'uga': 'NOUN', 'cit': 'NOUN', 'em,': 'PROPN', 'itã': 'PROPN', 'ex': 'ADP', 'ics': 'PROPN', 'alô': 'INTJ', 'lix': 'PROPN', 'ndú': 'ADJ', 'ple': 'PROPN', 'ion': 'PROPN', 'lho': 'NOUN', '095': 'NUM', 'upo': 'NOUN', \"t's\": 'PROPN', 'eto': 'NOUN', 'udi': 'PROPN', ',23': 'NUM', '523': 'NUM', 'età': 'NOUN', 'har': 'VERB', 'nem': 'CCONJ', '061': 'NUM', 'ogo': 'NOUN', 'max': 'PROPN', '111': 'NUM', 'uxe': 'VERB', '7ª': 'ADJ', ',37': 'NUM', 'rr': 'PROPN', 'go': 'PROPN', 'ors': 'PROPN', 'uca': 'PROPN', 'viu': 'VERB', 'sax': 'NOUN', 'leu': 'VERB', '9h': 'NOUN', 'gfa': 'PROPN', '?': 'PUNCT', 'boy': 'PROPN', 'blo': 'PROPN', 'rag': 'X', 'rva': 'VERB', 'mia': 'NOUN', 'ffy': 'PROPN', 'lag': 'X', 'cbf': 'PROPN', 'cy': 'PROPN', 'rid': 'PROPN', '58': 'NUM', '17h': 'NOUN', '277': 'NUM', '-mg': 'PROPN', 'nam': 'VERB', 'vda': 'PROPN', 'tmo': 'NOUN', 'ia': 'AUX', 'atu': 'PROPN', '3-0': 'NUM', 'ó': 'INTJ', 'ipo': 'NOUN', '5,5': 'NUM', 'oma': 'NOUN', 'oía': 'VERB', '-': 'PUNCT', '50': 'NUM', 'íço': 'ADJ', 'cau': 'PROPN', 'ath': 'X', 'oda': 'DET', 'arz': 'PROPN', 'otr': 'PROPN', '985': 'NUM', 'sée': 'PROPN', 'naa': 'PROPN', \"8''\": 'NUM', 'ryd': 'PROPN', 'era': 'AUX', 'ead': 'PROPN', 'ñoz': 'PROPN', 'eão': 'NOUN', 'edi': 'VERB', 'rés': 'NOUN', 'vim': 'VERB', 'heu': 'VERB', 'alo': 'NOUN', 'rão': 'VERB', '25': 'NUM', 'khs': 'NOUN', 'lo': 'PRON', 'ono': 'NOUN', 'xin': 'PROPN', '9': 'NUM', 'uve': 'VERB', 'aty': 'PROPN', 'afe': 'PROPN', 'ker': 'PROPN', 'fôr': 'AUX', 'do': 'PROPN', 'bié': 'PROPN', 'jud': 'PROPN', '011': 'NUM', ',77': 'NUM', 'vra': 'NOUN', 'foi': 'AUX', '»': 'PUNCT', '2,2': 'NUM', '511': 'NUM', 'rça': 'NOUN', 'mae': 'PROPN', 'haw': 'PROPN', 'met': 'PROPN', '3-1': 'NUM', 'dir': 'VERB', 'she': 'PROPN', 'jiu': 'PROPN', '67': 'NUM', 'eve': 'VERB', 'bc': 'PROPN', 'spo': 'NOUN', 'rot': 'PROPN', 'fmi': 'PROPN', 'axa': 'NOUN', 'eda': 'NOUN', 'ipm': 'PROPN', '923': 'NUM', '7-6': 'NUM', ':': 'PUNCT', 'rv': 'PROPN', 'iça': 'NOUN', ',30': 'NUM', 'uíu': 'VERB', 'rãs': 'NOUN', 'cla': 'PROPN', 'urv': 'NOUN', 'ick': 'PROPN', 'ebi': 'VERB', 'uks': 'PROPN', 'cut': 'PROPN', 'afo': 'NOUN', 'hf': 'PROPN', 'aud': 'PROPN', 'ube': 'NOUN', 'qu': 'PRON', 'd.': 'PROPN', '280': 'NUM', 'nle': 'ADJ', 'sá': 'PROPN', 'cf1': 'PROPN', '7,8': 'NUM', 'êas': 'PROPN', 'irá': 'VERB', 'sp': 'PROPN', 'oyd': 'PROPN', 'vém': 'NOUN', 'ivo': 'ADJ', 'oys': 'PROPN', 'fre': 'VERB', 'iso': 'ADJ', 'osh': 'PROPN', 'ole': 'NOUN', 'ras': 'NOUN', 'vai': 'AUX', 'ste': 'DET', 'tc.': 'ADV', 'kry': 'PROPN', \"0''\": 'NUM', '22': 'NUM', 'won': 'PROPN', 'lma': 'PROPN', 'apé': 'PROPN', 'es»': 'PROPN', 'enc': 'PROPN', 'sez': 'NOUN', \"l'\": 'PROPN', 'nho': 'NOUN', '001': 'NUM', 'ndy': 'PROPN', 'mec': 'PROPN', '914': 'NUM', 'aig': 'PROPN', '739': 'NUM', 'rja': 'VERB', 'elê': 'PROPN', 'bch': 'PROPN', 'p53': 'NOUN', 'ijo': 'PROPN', 'tel': 'NOUN', 'his': 'NOUN', 'réa': 'PROPN', 'ocê': 'PRON', 'reu': 'VERB', 'tto': 'PROPN', 'tva': 'PROPN', 'eux': 'PROPN', 'ies': 'NOUN', '963': 'NUM', 'iza': 'VERB', 'odó': 'PROPN', ',70': 'NUM', 'ed.': 'NOUN', '...': 'PUNCT', 'pus': 'NOUN', 'nhá': 'VERB', 'sul': 'PROPN', 'eth': 'PROPN', 'slo': 'PROPN', 'tab': 'PROPN', 'bra': 'NOUN', '3': 'NUM', 'ony': 'PROPN', '8ª': 'ADJ', 'hai': 'PROPN', 'ron': 'PROPN', 'nea': 'ADJ', '0,8': 'NUM', 'são': 'NOUN', '0,9': 'NUM', 'lôs': 'NOUN', '0-1': 'NUM', '223': 'NUM', 'sca': 'NOUN', 'rm': 'PROPN', 'bci': 'PROPN', 'bei': 'VERB', 'rni': 'PROPN', 'web': 'PROPN', 'ium': 'PROPN', '33ª': 'NOUN', 'jan': 'PROPN', 'rvo': 'PROPN', 'dor': 'NOUN', 'mir': 'VERB', 'set': 'PROPN', 'jk': 'PROPN', 'nik': 'NOUN', '920': 'NUM', 'ugh': 'PROPN', 'vão': 'AUX', 'us$': 'SYM', '329': 'NUM', '-ce': 'PROPN', 'ejo': 'NOUN', 'chi': 'PROPN', 'éad': 'PROPN', '6,1': 'NUM', 'alt': 'PROPN', 'ngs': 'PROPN', 'otá': 'PROPN', '994': 'NUM', 'ngo': 'NOUN', 'asa': 'NOUN', 'al': 'ADP', 'nua': 'VERB', 'uno': 'PROPN', 'av.': 'PROPN', 'ern': 'PROPN', 'iul': 'NUM', 'rmo': 'PROPN', '11)': 'NUM', 'põe': 'VERB', ',41': 'NUM', 'lvi': 'VERB', 'nto': 'NOUN', 'gas': 'NOUN', '11s': 'NOUN', 'bav': 'PROPN', '301': 'PROPN', 'aoi': 'PROPN', '828': 'NUM', 'eca': 'NOUN', 'abc': 'PROPN', 'ift': 'PROPN', ',18': 'NUM', 'lti': 'NOUN', 'lfa': 'PROPN', 'lso': 'NOUN', 'gp': 'PROPN', 'own': 'PROPN', 'uth': 'PROPN', 'aac': 'PROPN', 'iar': 'VERB', 'aís': 'NOUN', 'vor': 'NOUN', 'uas': 'DET', 'cek': 'PROPN', 'raó': 'NOUN', ',44': 'NUM', 'ms': 'PROPN', '5,8': 'NUM', 'un': 'PROPN', 'u$': 'NOUN', 's.': 'PROPN', '55s': 'NOUN', 'lot': 'PROPN', 'nta': 'VERB', 'kar': 'PROPN', 'ati': 'PROPN', '0': 'NUM', ',94': 'NUM', 'rol': 'NOUN', 'cic': 'NOUN', '.p.': 'PROPN', ',03': 'NUM', 'kol': 'PROPN', 'ter': 'VERB', 'foz': 'PROPN', 'say': 'PROPN', 'hoi': 'PROPN', 'ich': 'PROPN', 'beu': 'VERB', ',87': 'NUM', '9,8': 'NUM', '.75': 'NUM', '43': 'NUM', 'rpa': 'PROPN', 'phe': 'PROPN', 'ity': 'PROPN', '8,5': 'NUM', 'pás': 'NOUN', '125': 'NUM', 'iii': 'ADJ', 'ãos': 'NOUN', '982': 'NUM', 'pv': 'PROPN', 'pf': 'PROPN', 'sin': 'PROPN', '130': 'NUM', 'bul': 'PROPN', 'owa': 'PROPN', 'ur': 'PROPN', 'eli': 'PROPN', 'ízo': 'NOUN', '996': 'NUM', 'ine': 'PROPN', '64': 'NUM', 'eng': 'PROPN', '3,1': 'NUM', 'fen': 'PROPN', 'cup': 'PROPN', 'pur': 'PROPN', 'aga': 'NOUN', 'eb': 'PROPN', 'sô': 'AUX', 'c-a': 'NOUN', 'eot': 'PROPN', '8,8': 'NUM', 'mor': 'NOUN', 'lgo': 'PRON', 'anc': 'PROPN', '7-5': 'NUM', 'xix': 'ADJ', 'jic': 'PROPN', 'bal': 'ADJ', '134': 'NUM', 'fiz': 'VERB', '25m': 'NOUN', 'js': 'PROPN', '-92': 'PROPN', 'mim': 'PRON', '.00': 'NUM', 'hio': 'PROPN', 'rço': 'NOUN', 'eu,': 'PROPN', 'aía': 'VERB', 'xos': 'NOUN', 'bem': 'ADV', 'acá': 'PROPN', 'cs.': 'NOUN', 'pr': 'PROPN', 'iot': 'PROPN', '-20': 'PROPN', '94': 'NUM', 'nra': 'NOUN', '».': 'PUNCT', 'lay': 'PROPN', 'iño': 'PROPN', 'row': 'PROPN', '7,1': 'NUM', 'via': 'VERB', 'mbi': 'PROPN', '862': 'NUM', 'rla': 'PROPN', 'djy': 'PROPN', 'ofá': 'NOUN', 'olz': 'PROPN', 'uma': 'DET', 'ult': 'PROPN', '910': 'NUM', 'ahu': 'PROPN', \"83'\": 'NUM', 'nix': 'PROPN', 'neu': 'NOUN', '-10': 'PROPN', '122': 'NUM', 'rth': 'PROPN', 'pol': 'PROPN', 'ceu': 'VERB', 'aça': 'NOUN', '93': 'NUM', '44': 'NUM', 'bau': 'PROPN', 'rgo': 'NOUN', 'zan': 'PROPN', 'qua': 'PROPN', 'cc': 'NOUN', '422': 'NUM', 'rse': 'VERB', 'pá': 'NOUN', '0.5': 'NUM', '514': 'NUM', 'lel': 'PROPN', '/91': 'PROPN', 'ená': 'VERB', 'ra.': 'PROPN', '75': 'NUM', 'nch': 'PROPN', 'iba': 'PROPN', \"n's\": 'PROPN', 'nce': 'NOUN', 'ndt': 'PROPN', 'ush': 'PROPN', 'èes': 'PROPN', 'osé': 'PROPN', '205': 'NUM', 'fpf': 'PROPN', 'tiz': 'PROPN', 'ope': 'PROPN', 'coe': 'PROPN', ',58': 'NUM', 'si': 'PRON', 'azo': 'NOUN', 'prc': 'PROPN', 'crê': 'VERB', 'ité': 'PROPN', 'cip': 'PROPN', 'rna': 'ADJ', '1º': 'ADJ', 'evo': 'PROPN', 'ier': 'PROPN', 'tui': 'VERB', 'sei': 'VERB', 'alm': 'PROPN', '61': 'NUM', 'ske': 'PROPN', 'lá': 'ADV', 'ome': 'NOUN', 'iak': 'PROPN', ',25': 'NUM', 'ign': 'NOUN', 'ntê': 'VERB', '0h': 'NOUN', 'cne': 'PROPN', 'hoc': 'PROPN', '97': 'NUM', 'mbu': 'NOUN', 'nci': 'VERB', 'jn': 'PROPN', 'çou': 'VERB', 'upa': 'VERB', 'cmr': 'PROPN', 'lês': 'ADJ', 'pro': 'NOUN', 'vot': 'NOUN', '5': 'NUM', '-pb': 'PROPN', 'bés': 'NOUN', 'nst': 'PROPN', 'ião': 'NOUN', 'tal': 'ADJ', 'lee': 'PROPN', 'zé': 'PROPN', 'rba': 'NOUN', 'evá': 'VERB', '89': 'NUM', '120': 'NUM', 'rin': 'PROPN', 'ons': 'ADJ', 'dão': 'NOUN', 'itê': 'NOUN', 'eri': 'PROPN', 'gd': 'PROPN', 'une': 'PROPN', '180': 'NUM', 'umi': 'PROPN', 'oão': 'PROPN', 'gol': 'NOUN', 'mic': 'PROPN', 'ptc': 'PROPN', '433': 'NUM', 'eur': 'PROPN', 'imi': 'NOUN', '730': 'NUM', '39': 'NUM', 'aña': 'PROPN', 'mbe': 'PROPN', 'oço': 'NOUN', 'ssa': 'DET', 'rsu': 'PROPN', 'atp': 'PROPN', 'ied': 'PROPN', 'heo': 'PROPN', 'eys': 'PROPN', '913': 'NUM', 'bbi': 'PROPN', 'cía': 'PROPN', 'out': 'PROPN', 'gda': 'PROPN', 'cio': 'NOUN', \"7''\": 'NUM', 'liu': 'VERB', 'uês': 'ADJ', '230': 'NUM', '6.0': 'NUM', '353': 'NUM', 'r$': 'SYM', '34)': 'NUM', 'm&f': 'PROPN', 'oer': 'PROPN', '11º': 'ADJ', 'nl': 'PROPN', 'nor': 'ADJ', 'ler': 'PROPN', 'lir': 'VERB', 'zou': 'VERB', 'reo': 'ADJ', 'bd': 'PROPN', 'omé': 'PROPN', 'avo': 'PROPN', 'oro': 'NOUN', '00)': 'NUM', 'nty': 'PROPN', 'xxi': 'ADJ', '183': 'NUM', 'nsa': 'NOUN', 'fat': 'PROPN', '73': 'NUM', 'rch': 'X', 'rdo': 'NOUN', 'oor': 'NOUN', 'bpa': 'PROPN', 'enn': 'PROPN', 'diu': 'VERB', 'açu': 'PROPN', 'lex': 'PROPN', 'fer': 'PROPN', 'utá': 'VERB', '.0c': 'NUM', 'aem': 'VERB', '11': 'NUM', 'ulu': 'PROPN', 'low': 'X', 'vt': 'NOUN', '31': 'NUM', 'gro': 'ADJ', 'nço': 'NOUN', 'oea': 'PROPN', 'rec': 'PROPN', '004': 'NUM', 'pm': 'PROPN', 'nde': 'PRON', '6': 'NUM', 'stá': 'AUX', '440': 'NUM', 'yer': 'PROPN', 'ng.': 'NOUN', 'jão': 'PROPN', 'hum': 'DET', 'oll': 'NOUN', ',09': 'NUM', 'ndo': 'VERB', '0-0': 'NUM', '14ª': 'ADJ', 'úda': 'VERB', 'box': 'NOUN', '15m': 'NUM', 'da': 'ADP', 'ddy': 'PROPN', 'sem': 'ADP', 'oco': 'NOUN', ',65': 'NUM', ',45': 'NUM', 'ama': 'NOUN', 'iei': 'VERB', 'iel': 'PROPN', 'tem': 'VERB', 'c.': 'PROPN', 'ont': 'PROPN', 'pmf': 'PROPN', 'úri': 'NOUN', 'fla': 'PROPN', '667': 'NUM', 'tov': 'ADJ', 'íli': 'PROPN', '126': 'NUM', '668': 'NUM', '83': 'NUM', 'bém': 'ADV', 'mur': 'PROPN', 'gua': 'NOUN', 'now': 'PROPN', 'is:': 'PROPN', 'cf.': 'NOUN', 'rry': 'PROPN', 'vii': 'ADJ', 'pte': 'VERB', ',07': 'NUM', '776': 'NUM', '3,8': 'NUM', ',98': 'NUM', 'nge': 'ADV', '7,5': 'NUM', 'iaf': 'PROPN', '284': 'NUM', 'sós': 'ADJ', 'omc': 'PROPN', '/89': 'PROPN', 'tv2': 'PROPN', '60': 'NUM', 'a-2': 'PROPN', 'ean': 'PROPN', 'pdt': 'PROPN', 'hia': 'NOUN', 'uia': 'NOUN', 'rpe': 'NOUN', '6,3': 'NUM', 'tc': 'NOUN', 'oge': 'VERB', 'ote': 'NOUN', 'icy': 'PROPN', 'eis': 'ADJ', 'oli': 'PROPN', 'bos': 'PRON', '74': 'NUM', '500': 'NUM', 'hor': 'ADJ', 'giu': 'VERB', 'gre': 'ADJ', 'han': 'PROPN', 'gov': 'PROPN', '974': 'NUM', '37': 'NUM', 'fir': 'PROPN', 'amm': 'PROPN', 'gar': 'VERB', 'aio': 'NOUN', 'opa': 'PROPN', '983': 'NUM', 'ads': 'NOUN', '309': 'NUM', 'pie': 'ADJ', '285': 'NUM', 'abu': 'PROPN', 'sas': 'NOUN', 'cna': 'PROPN', 'nna': 'PROPN', '986': 'NUM', 'y10': 'PROPN', 'mão': 'NOUN', 'ska': 'PROPN', '-pe': 'PROPN', 'coa': 'PROPN', 'dj': 'PROPN', 'pp': 'PROPN', 'dow': 'PROPN', 'oal': 'NOUN', 'ny': 'PROPN', 'iti': 'PROPN', '.k.': 'PROPN', '981': 'NUM', 'lmo': 'PROPN', 'f.': 'PROPN', 'eco': 'PROPN', \"e's\": 'PROPN', 'pt': 'PROPN', 'um': 'DET', 'tec': 'PROPN', 'ees': 'PROPN', 'cae': 'PROPN', 'iés': 'NOUN', 'son': 'PROPN', '0,5': 'NUM', 'lço': 'NOUN', 'te': 'PRON', 'one': 'NOUN', '9,3': 'NUM', 'sto': 'NOUN', 'pet': 'PROPN', 'kaz': 'PROPN', 'aka': 'PROPN', 'c-r': 'PROPN', 'm/h': 'NOUN', 'ner': 'PROPN', 'cão': 'NOUN', 'ída': 'VERB', 'or': 'PROPN', 'lpa': 'NOUN', 'uba': 'PROPN', 'sce': 'VERB', 'it': 'PROPN', 'rbs': 'PROPN', 'sau': 'PROPN', 'uzí': 'VERB', 'oha': 'PROPN', '19': 'NUM', 'uiu': 'VERB', 'xal': 'PROPN', \"4'\": 'NOUN', 'a-1': 'PROPN', 'sio': 'PROPN', 'abe': 'VERB', 'iga': 'PROPN', 'lpe': 'NOUN', 'hez': 'PROPN', 'hem': 'VERB', 'fah': 'PROPN', 'cai': 'VERB', 'arc': 'PROPN', 'ami': 'PROPN', 'toy': 'PROPN', 'nov': 'PROPN', 'iri': 'PROPN', '46º': 'ADJ', '15ª': 'ADJ', 'bri': 'VERB', 'ach': 'PROPN', 'nse': 'ADJ', 'tom': 'NOUN', \"d'\": 'PROPN', 'apá': 'PROPN', 'ori': 'PROPN', 'oza': 'PROPN', 'kzo': 'PROPN', '630': 'NUM', 'am': 'PROPN', 'udn': 'PROPN', '3,5': 'NUM', ',61': 'NUM', 'hui': 'PROPN', 'ibm': 'PROPN', ',76': 'NUM', 'lei': 'NOUN', 'is': 'PROPN', 'ney': 'PROPN', 'nº': 'NOUN', 'had': 'NOUN', 'ina': 'PROPN', 'roe': 'PROPN', 'edp': 'PROPN', 'bye': 'PROPN', 'ulo': 'PROPN', 'dax': 'PROPN', '228': 'NUM', 'een': 'PROPN', 'bed': 'PROPN', 'dja': 'PROPN', ',32': 'NUM', 'h41': 'NOUN', 'vin': 'PROPN', 'aós': 'NOUN', 'nga': 'ADJ', 'sha': 'PROPN', '3,7': 'NUM', 'urt': 'PROPN', 'oon': 'PROPN', 'lil': 'PROPN', '5,4': 'NUM', 'ike': 'PROPN', '98': 'NUM', '5ª': 'ADJ', '213': 'NUM', '42ª': 'ADJ', 'uxa': 'NOUN', 'rma': 'NOUN', 'h50': 'NOUN', '76': 'NUM', 'éns': 'NOUN', '2º.': 'ADJ', 'rém': 'CCONJ', '327': 'NUM', 'age': 'PROPN', 'hek': 'PROPN', 'elp': 'PROPN', 'zas': 'NOUN', 'ish': 'PROPN', 'iró': 'PROPN', 'rto': 'PROPN', 'ini': 'PROPN', 'hty': 'PROPN', 'run': 'PROPN', '1,7': 'NUM', 'exy': 'ADJ', 'h45': 'NOUN', 'br': 'PROPN', 'sma': 'ADJ', 'itá': 'VERB', 'dga': 'PROPN', 'm2': 'NOUN', 'cpf': 'NOUN', 'sc': 'PROPN', 'usp': 'PROPN', 'bes': 'NOUN', 'oas': 'NOUN', '34': 'NUM', 'eio': 'NOUN', 'gil': 'PROPN', 'diz': 'VERB', \"n't\": 'PROPN', 'oim': 'NOUN', 'gnr': 'PROPN', 'j.': 'PROPN', 'bb': 'PROPN', 'rie': 'NOUN', 'rt.': 'NOUN', 'jos': 'NOUN', '15h': 'NOUN', 'ise': 'NOUN', 'vem': 'VERB', 'arx': 'PROPN', 'lvê': 'VERB', '9,5': 'NUM', 'olf': 'PROPN', 'oss': 'PROPN', \"38'\": 'NOUN', 'ece': 'VERB', '836': 'NUM', 'oya': 'PROPN', '6-0': 'NUM', 'gna': 'ADJ', 'mer': 'VERB', 'ecu': 'NOUN', '140': 'NUM', 'ges': 'PROPN', 'éc.': 'NOUN', '212': 'NUM', 'wer': 'PROPN', '182': 'NUM', '29': 'NUM', 'iru': 'PROPN', 'uos': 'NOUN', '14h': 'NOUN', 'fés': 'NOUN', 'çar': 'VERB', 'ace': 'ADV', '777': 'NUM', 'tas': 'NOUN', 'rfo': 'NOUN', '998': 'NUM', 'tor': 'NOUN', 'cho': 'VERB', '.r.': 'PROPN', '926': 'NUM', '18': 'NUM', 'rbo': 'ADJ', 'rve': 'VERB', 'gem': 'NOUN', 'pom': 'NOUN', '383': 'NUM', 'hat': 'PROPN', 'sus': 'PROPN', 'let': 'PROPN', 'gat': 'PROPN', 'alã': 'ADJ', 'gsi': 'PROPN', 'zem': 'VERB', 'gny': 'PROPN', 'y': 'PROPN', 'ax': 'PROPN', 'hey': 'PROPN', '2-0': 'NUM', 'rde': 'NOUN', '/96': 'PROPN', 'eim': 'PROPN', '8,6': 'NUM', 'fé': 'NOUN', 'ams': 'PROPN', 'por': 'ADP', 'uaw': 'ADJ', 'aj': 'PROPN', '384': 'NUM', 'tou': 'VERB', 'ssy': 'PROPN', 'fef': 'PROPN', 'uio': 'PROPN', 'eva': 'VERB', 'amá': 'PROPN', 'mi': 'NOUN', 'rga': 'NOUN', 'tjm': 'PROPN', 'joe': 'PROPN', 'pou': 'VERB', '51': 'NUM', '218': 'NUM', 'yor': 'PROPN', 'uri': 'PROPN', 'oça': 'NOUN', 'oly': 'PROPN', 'sme': 'PROPN', 'hc': 'PROPN', 'yol': 'PROPN', 'cia': 'NOUN', 'pec': 'PROPN', 'h00': 'NOUN', 'cco': 'PROPN', '240': 'NUM', '35': 'NUM', '18h': 'NOUN', 'íra': 'VERB', 'nja': 'PROPN', 'usã': 'PROPN', 'ant': 'PROPN', 'jú': 'PROPN', '737': 'PROPN', 'lvo': 'NOUN', 'dal': 'PROPN', 'rae': 'PROPN', 'ivô': 'NOUN', 'sse': 'VERB', 'azz': 'NOUN', 'rds': 'PROPN', 'jar': 'VERB', 'ice': 'NOUN', 'éus': 'NOUN', 'rki': 'PROPN', '-27': 'NUM', 'ara': 'ADP', 'zei': 'VERB', 'hes': 'PRON', 'eau': 'PROPN', 'lus': 'PROPN', 'eer': 'PROPN', 'exa': 'ADJ', 'pc': 'PROPN', 'dn': 'PROPN', 'eam': 'X', 'how': 'NOUN', 'clã': 'NOUN', 'mol': 'NOUN', 'bvl': 'PROPN', 'cfe': 'PROPN', 'ian': 'PROPN', 'umo': 'NOUN', '2-1': 'NUM', 'en': 'PROPN', 'bby': 'NOUN', '.há': 'PROPN', 'nbc': 'PROPN', '.j.': 'PROPN', ',90': 'NUM', 'iro': 'NOUN', 'fut': 'NOUN', 'upp': 'PROPN', 'yne': 'PROPN', 'efe': 'NOUN', ',80': 'NUM', 'ojo': 'NOUN', 'p': 'NOUN', '2,5': 'NUM', 'ágs': 'NOUN', 'nsi': 'PROPN', 'lar': 'VERB', 'nº.': 'NOUN', 'bbo': 'PROPN', 'rld': 'PROPN', 'lip': 'PROPN', 'of': 'PROPN', 'tra': 'ADP', 'le': 'PROPN', 'ric': 'PROPN', 'som': 'NOUN', 'rei': 'VERB', 'cep': 'NOUN', '36': 'NUM', 'aiz': 'NOUN', 'yar': 'PROPN', 'qi': 'PROPN', 'cee': 'PROPN', 'ook': 'PROPN', 'uys': 'PROPN', '138': 'NUM', 'try': 'PROPN', '54º': 'ADJ', 'qca': 'PROPN', '23': 'NUM', 'eke': 'PROPN', 'só': 'ADV', 'chu': 'NOUN', 'ime': 'NOUN', 'rts': 'PROPN', 'lin': 'PROPN', 'ese': 'NOUN', '16h': 'NOUN', 'eça': 'VERB', 'ois': 'NUM', 'men': 'PROPN', 'eos': 'NOUN', 'ao': 'ADP', '425': 'NUM', '5.2': 'NUM', 'zón': 'PROPN', 'nei': 'VERB', '7-1': 'NUM', '6-3': 'NUM', 'uss': 'PROPN', 'cém': 'PROPN', '946': 'NUM', 'ips': 'PROPN', 'uns': 'DET', 'eru': 'PROPN', 'ndé': 'PROPN', 'mou': 'VERB', '593': 'NUM', '8º': 'ADJ', 'êra': 'PROPN', 'rre': 'VERB', 'tte': 'PROPN', 'lla': 'PROPN', 'ou': 'CCONJ', 'geu': 'NOUN', 'vro': 'NOUN', '1ª': 'ADJ', '991': 'NUM', 'ziu': 'VERB', 'ude': 'NOUN', 'you': 'PROPN', ',97': 'NUM', 'tes': 'NOUN', 'pax': 'PROPN', 'bor': 'NOUN', 'cca': 'PROPN', ',28': 'NUM', 'eus': 'DET', '141': 'NUM', '13': 'NUM', 'nny': 'PROPN', 'pot': 'PROPN', 'ias': 'NOUN', 'peu': 'ADJ', 'nic': 'PROPN', 'maz': 'PROPN', '750': 'NUM', 'rad': 'PROPN', '79': 'NUM', 'avô': 'NOUN', 'oga': 'NOUN', \"a's\": 'PROPN', '108': 'NUM', 'ofe': 'NOUN', '984': 'NUM', ',96': 'NUM', 'tip': 'NOUN', 'pas': 'NOUN', ';': 'PUNCT', 'min': 'PROPN', 'éis': 'NOUN', '605': 'NUM', 'ps': 'PROPN', 'nc.': 'ADJ', 'çol': 'NOUN', 'ech': 'PROPN', '989': 'NUM', 'sa': 'PROPN', 'tau': 'PROPN', 'lia': 'PROPN', ',36': 'NUM', '30ª': 'ADJ', 'lid': 'PROPN', 'tah': 'PROPN', 'tá': 'AUX', '2-2': 'NUM', 'als': 'PROPN', 'isa': 'NOUN', '18ª': 'ADJ', 'gun': 'PROPN', 'nuá': 'VERB', 'me': 'PRON', '929': 'NUM', 'eja': 'AUX', ',10': 'NUM', ',84': 'NUM', '155': 'NUM', 'rsa': 'NOUN', 'dês': 'NOUN', 'sai': 'VERB', 'hal': 'PROPN', '16': 'NUM', 'nro': 'NOUN', \"2''\": 'NUM', 'olã': 'PROPN', 'jo': 'PROPN', 'rio': 'NOUN', 'ii': 'PROPN', 'tad': 'PROPN', 'jii': 'PROPN', '*': 'PUNCT', '055': 'NUM', 'ggy': 'PROPN', 'iná': 'VERB', '606': 'NUM', 'ere': 'VERB', 'mas': 'CCONJ', \"k's\": 'PROPN', 'n': 'NOUN', 'hao': 'PROPN', 'cma': 'PROPN', 'lfo': 'PROPN', 'ods': 'PROPN', 'chá': 'NOUN', 'tof': 'PROPN', 'lle': 'PROPN', 'ubá': 'VERB', 't': 'NOUN', '840': 'NUM', '67ª': 'ADJ', 'eço': 'NOUN', 'ntz': 'PROPN', 'noa': 'PROPN', 'erã': 'PROPN', '-86': 'NUM', 'ock': 'PROPN', 'sut': 'PROPN', 'ifo': 'ADJ', 'azê': 'VERB', 'hki': 'PROPN', 'val': 'NOUN', 'eem': 'PROPN', 'ugu': 'PROPN', '313': 'NUM', 'ete': 'NUM', 'pôr': 'VERB', 'il': 'PROPN', 'prd': 'PROPN', 'ccn': 'PROPN', 'bam': 'VERB', '20h': 'NOUN', 'ibu': 'PROPN', '048': 'NUM', 'uit': 'PROPN', 'my': 'PROPN', '176': 'NUM', 'fpb': 'PROPN', 'uge': 'NOUN', 'nac': 'PROPN', 'bir': 'VERB', 'fbi': 'PROPN', '53': 'NUM', 'mus': 'PROPN', '100': 'NUM', 'cet': 'PROPN', 'fie': 'PROPN', 'ang': 'PROPN', 'rau': 'NOUN', 'rir': 'VERB', 'rai': 'VERB', 'evê': 'VERB', 'q1': 'PROPN', 'ann': 'PROPN', 'eze': 'NUM', 'hau': 'NOUN', 'abo': 'NOUN', 'sde': 'ADP', 'aba': 'VERB', 'mm': 'NOUN', 'ubo': 'NOUN', 'lly': 'PROPN', '(s)': 'DET', '/60': 'NUM', 'rnê': 'NOUN', 'ído': 'VERB', 'ket': 'X', 'cou': 'VERB', 'ain': 'PROPN', '887': 'NUM', 'nts': 'PROPN', 'ho': 'PROPN', 'hit': 'X', 'gás': 'NOUN', '48': 'NUM', 'ham': 'VERB', '-94': 'PROPN', 'h55': 'NOUN', 'dke': 'PROPN', 'gps': 'PROPN', 'uce': 'PROPN', 'o.': 'PROPN', 'rlf': 'PROPN', '772': 'NUM', '179': 'NUM', ',48': 'NUM', 'jah': 'PROPN', 'voa': 'PROPN', 'oel': 'PROPN', '297': 'NUM', 'mdb': 'PROPN', 'cr': 'NOUN', 'bio': 'NOUN', 'rab': 'PROPN', 'rap': 'PROPN', 'nzo': 'PROPN', 'seu': 'DET', 'siv': 'PROPN', 'gal': 'PROPN', 'ic1': 'PROPN', 'ton': 'PROPN', '4,6': 'NUM', 'tea': 'PROPN', '250': 'NUM', 'frê': 'VERB', 'hp': 'NOUN', '661': 'NUM', '260': 'NUM', 'lan': 'PROPN', 'aró': 'PROPN', 'fas': 'NOUN', 'al.': 'NOUN', 'aja': 'VERB', 'car': 'VERB', 'esp': 'PROPN', '59': 'NUM', 'rim': 'PROPN', 'tr': 'PROPN', 'oam': 'VERB', '66': 'NUM', '/': 'PUNCT', 'dra': 'NOUN', ',34': 'NUM', 'iya': 'PROPN', 'urb': 'PROPN', 'cci': 'PROPN', 'vre': 'ADJ', 'oso': 'ADJ', 'nue': 'VERB', 'ege': 'PROPN', 'nal': 'ADJ', 'ppo': 'ADV', '961': 'NUM', '3h': 'NOUN', 'ell': 'PROPN', 'rno': 'NOUN', 'lam': 'VERB', 'uez': 'PROPN', 'mix': 'NOUN', 'vis': 'PROPN', 'veu': 'VERB', 'eón': 'PROPN', '95': 'NUM', 'gri': 'PROPN', 'rks': 'PROPN', 'pib': 'PROPN', 'eel': 'PROPN', '4h': 'NOUN', 'kit': 'NOUN', 'ccb': 'PROPN', 'oot': 'PROPN', 'pcc': 'PROPN', 'fan': 'PROPN', 'mon': 'PROPN', 'ake': 'PROPN', 'oce': 'ADJ', 'cos': 'NOUN', \"r.'\": 'NOUN', '4-0': 'NUM', 'acs': 'PROPN', '470': 'NUM', 'ble': 'PROPN', 'ear': 'VERB', 'acm': 'PROPN', 'lde': 'PROPN', 'aho': 'NOUN', 'faz': 'VERB', 'an': 'PROPN', 'uem': 'PRON', 'mis': 'NOUN', 'tao': 'PROPN', 'eou': 'VERB', '45º': 'ADJ', 'mio': 'PROPN', '1,2': 'NUM', 'guy': 'PROPN', 'h20': 'NOUN', 'tiu': 'VERB', '679': 'NUM', 'auí': 'ADJ', '170': 'NUM', 'orp': 'PROPN', 'om.': 'NOUN', 'gio': 'PROPN', '408': 'NUM', 'les': 'PRON', ',47': 'NUM', 'pan': 'PROPN', 'déu': 'PROPN', 'olp': 'PROPN', 'lec': 'PROPN', 'cie': 'NOUN', 'dna': 'PROPN', 'cap': 'PROPN', 'fse': 'PROPN', 'sue': 'PROPN', 'if': 'PROPN', 'ber': 'VERB', '359': 'NUM', '-rs': 'PROPN', 'ugo': 'PROPN', ',31': 'NUM', ',15': 'NUM', '958': 'NUM', 'fda': 'PROPN', 'rly': 'PROPN', 'ves': 'PROPN', '988': 'NUM', 'omp': 'PROPN', 'zle': 'NOUN', 'lg': 'PROPN', 'key': 'PROPN', 'vea': 'PROPN', '6,7': 'NUM', 'kaa': 'PROPN', 'yes': 'PROPN', 'stf': 'PROPN', '90': 'NUM', 'rcd': 'PROPN', 'ail': 'PROPN', 'yon': 'PROPN', '900': 'NUM', 'aut': 'PROPN', 'rne': 'NOUN', 'éia': 'NOUN', 'kyo': 'PROPN', 'tts': 'NOUN', 'cdi': 'PROPN', 'óis': 'NOUN', 'lat': 'PROPN', 'iás': 'ADV', 'ppr': 'PROPN', 'ugt': 'PROPN', '20ª': 'ADJ', 'eso': 'NOUN', 'cro': 'NOUN', 'ças': 'NOUN', 'vit': 'NOUN', 'emo': 'PROPN', 'bin': 'PROPN', ',79': 'NUM', 'ix': 'PROPN', 'bao': 'PROPN', 'sim': 'ADV', 'sur': 'PROPN', 'rfe': 'NOUN', '21h': 'NOUN', 'ela': 'PRON', 'art': 'PROPN', 'roa': 'NOUN', 'ísa': 'PROPN', 'hol': 'ADJ', 'ent': 'PROPN', '-40': 'PROPN', 'ood': 'PROPN', '298': 'NUM', 'oir': 'PROPN', 'zir': 'VERB', '975': 'NUM', 'jes': 'NOUN', 'uds': 'NOUN', 'uzy': 'PROPN', 'imo': 'ADJ', 'fne': 'PROPN', 'ogê': 'PROPN', 'fã': 'NOUN', 'ndr': 'PROPN', 'ios': 'NOUN', 'get': 'PROPN', 'sky': 'PROPN', 'ba': 'PROPN', '8,3': 'NUM', ',62': 'NUM', 'lce': 'NOUN', 'ões': 'NOUN', '3-6': 'NUM', 'zém': 'NOUN', 'lue': 'PROPN', '-sp': 'PROPN', 'usl': 'PROPN', 'nil': 'NOUN', 'llo': 'PROPN', '969': 'NUM', 'rew': 'PROPN', 'igc': 'PROPN', 'mar': 'VERB', '6,9': 'NUM', 'bol': 'NOUN', 'ufi': 'PROPN', 'cra': 'PROPN', 'el.': 'NOUN', 'ma': 'PROPN', '7,3': 'NUM', '1,8': 'NUM', 'xis': 'PROPN', 'gtp': 'PROPN', 'yam': 'PROPN', 'nns': 'PROPN', 'amo': 'NOUN', '28': 'NUM', 'nio': 'PROPN', 'vei': 'VERB', 'dr.': 'NOUN', 'cto': 'NOUN', '970': 'NUM', 'rná': 'VERB', 'ula': 'PROPN', 'ast': 'PROPN', 'léu': 'NOUN', 'a': 'DET', '0,1': 'NUM', 'tap': 'PROPN', 'rce': 'VERB', 'bcp': 'PROPN', 'day': 'PROPN', \"'\": 'PUNCT', 'aya': 'PROPN', 'pre': 'ADV', 'ark': 'PROPN', 'gus': 'PROPN', 'fui': 'AUX', 'oby': 'PROPN', 'uar': 'VERB', 'paq': 'PROPN', 'kim': 'PROPN', 'dge': 'PROPN', 'dka': 'NOUN', 'ens': 'NOUN', 'sef': 'PROPN', 'aké': 'NOUN', 'xi': 'ADJ', ',54': 'NUM', 'íam': 'VERB', 'tic': 'PROPN', 'ryx': 'PROPN', 'ipc': 'PROPN', '371': 'NUM', 'bf': 'PROPN', 'ofo': 'NOUN', '-ap': 'PROPN', 'icn': 'PROPN', 'ong': 'PROPN', 'tex': 'PROPN', 'ait': 'PROPN', 'sil': 'PROPN', 'etc': 'ADV', 'dos': 'VERB', 'iev': 'PROPN', '577': 'NUM', 'edo': 'PROPN', 'vir': 'VERB', 'afá': 'PROPN', 'eu': 'PRON', 'cuo': 'NOUN', 'nas': 'NOUN', 'ppé': 'PROPN', 'ema': 'NOUN', 'het': 'PROPN', 'ken': 'PROPN', '91': 'NUM', 'd': 'PROPN', '49': 'NUM', 'pfl': 'PROPN', 'ore': 'PROPN', '700': 'NUM', 'ita': 'VERB', 'stj': 'PROPN', '801': 'NUM', '23h': 'NOUN', 'cle': 'NOUN', '458': 'NUM', 'nte': 'ADV', 'umy': 'PROPN', 'fay': 'PROPN', '381': 'NUM', 'âni': 'PROPN', '10': 'NUM', 'pta': 'VERB', 'des': 'NOUN', '..': 'PUNCT', 'uki': 'PROPN', 'lte': 'VERB', 'ils': 'PROPN', 'nco': 'NUM', 'ari': 'PROPN', '160': 'NUM', '576': 'NUM', 'sel': 'PROPN', 'bis': 'PROPN', 'kie': 'PROPN', 'pj': 'PROPN', 'nha': 'NOUN', '895': 'NUM', 'nan': 'PROPN', 'bus': 'NOUN', '&': 'PROPN', 'prn': 'PROPN', '253': 'NUM', 'pdm': 'PROPN', 'uim': 'PROPN', 'oui': 'PROPN', 'lda': 'PROPN', 'top': 'PROPN', 'afp': 'PROPN', 'tbt': 'PROPN', 'ape': 'PROPN', 'sou': 'VERB', 'xou': 'VERB', '47': 'NUM', 'zim': 'PROPN', 'íza': 'NOUN', 'r': 'PROPN', 'zio': 'PROPN', 'rar': 'VERB', '600': 'NUM', 'uek': 'PROPN', 'ect': 'PROPN', '3-2': 'NUM', 'bre': 'ADP', 'gno': 'ADJ', '.c.': 'NOUN', 'oca': 'NOUN', 'lín': 'PROPN', '68': 'NUM', 'tiv': 'PROPN', 'vio': 'NOUN', 'têm': 'VERB', 'cbs': 'PROPN', 'azi': 'ADJ', 'jmt': 'PROPN', 'kei': 'PROPN', 'kwá': 'PROPN', 'erá': 'VERB', 'ção': 'NOUN', 'aus': 'ADJ', 'afu': 'PROPN', 'li': 'VERB', '662': 'NUM', '8,1': 'NUM', 'udo': 'PRON', 'aná': 'PROPN', 'hev': 'PROPN', 'sam': 'VERB', ',55': 'NUM', 'ldo': 'PROPN', 'lez': 'PROPN', 'fa»': 'PROPN', 'igi': 'PROPN', 'ave': 'NOUN', 'elo': 'NOUN', 'iva': 'NOUN', 'elé': 'PROPN', 're»': 'PROPN', '80': 'NUM', 'guá': 'PROPN', ',59': 'NUM', 'íbe': 'VERB', 'ika': 'PROPN', 'luz': 'PROPN', '6/1': 'NUM', 'rug': 'PROPN', 'omb': 'PROPN', 'cas': 'ADJ', 'ert': 'PROPN', 'ris': 'PROPN', 'tag': 'PROPN', 'mmy': 'PROPN', 'wry': 'PROPN', 'amp': 'PROPN', 'ic': 'PROPN', 'oou': 'VERB', 'txa': 'PROPN', 'stã': 'PROPN', 'bui': 'VERB', 'ool': 'PROPN', 'nir': 'VERB', 'awa': 'PROPN', 'ory': 'PROPN', 'tãs': 'ADJ', 'duo': 'NOUN', '99': 'NUM', '3,0': 'NUM', 'alá': 'ADV', '5,1': 'NUM', 'mem': 'NOUN', 'ben': 'PROPN', 'fun': 'PROPN', '199': 'NUM', 'eck': 'PROPN', 'bad': 'PROPN', '110': 'NUM', 'new': 'PROPN', '19ª': 'ADJ', 'sia': 'PROPN', 'dev': 'PROPN', '1º.': 'ADJ', 'xes': 'NOUN', 'uhi': 'PROPN', 'fãs': 'NOUN', 'tan': 'PROPN', 'ág.': 'NOUN', 'fnm': 'PROPN', 'ito': 'NOUN', 'fio': 'NOUN', 'rom': 'PROPN', 'rnô': 'ADJ', 'teo': 'PROPN', 'kuo': 'PROPN', 'apo': 'NOUN', '85': 'NUM', 'nka': 'PROPN', 'ipé': 'PROPN', 'err': 'PROPN', 'mau': 'ADJ', 'ior': 'ADJ', 'tei': 'VERB', 'rda': 'NOUN', 'pia': 'NOUN', 'lx': 'PROPN', 'lfe': 'NOUN', 'mpê': 'VERB', 'aip': 'PROPN', 'amy': 'PROPN', 'inn': 'PROPN', 'cko': 'PROPN', 'zzo': 'PROPN', 'ova': 'ADJ', '200': 'NUM', 'nmp': 'PROPN', 'plo': 'NOUN', 'uir': 'VERB', 'rti': 'VERB', 'cdu': 'PROPN', 'dad': 'PROPN', 'lse': 'PROPN', 'féu': 'NOUN', '783': 'NUM', 'nad': 'PROPN', 'tay': 'PROPN', 'vôo': 'NOUN', 'bel': 'PROPN', 'xpo': 'PROPN', 'kin': 'PROPN', 'big': 'PROPN', 'km2': 'NOUN', 'oje': 'ADV', '47ª': 'ADJ', 'nya': 'PROPN', 'gen': 'PROPN', ',08': 'NUM', 'gaz': 'ADJ', 'cem': 'VERB', 'rev': 'PROPN', 'pós': 'ADP', 'ins': 'PROPN', 'unk': 'ADJ', '3ª': 'ADJ', 'has': 'NOUN', 'iew': 'PROPN', 'iie': 'PROPN', 'pau': 'NOUN', 'mps': 'PROPN', 'jas': 'NOUN', 'aul': 'PROPN', 'win': 'PROPN', 'îne': 'PROPN', 'ieg': 'PROPN', 'lum': 'PROPN', 'uza': 'PROPN', 'sr.': 'NOUN', 'mge': 'PROPN', 'uji': 'PROPN', 'puc': 'PROPN', 'evi': 'PROPN', 'ing': 'PROPN', 'yff': 'PROPN', 'io': 'PROPN', 'ius': 'PROPN', 'não': 'ADV', 'ppe': 'PROPN', ',27': 'NUM', \"d's\": 'PROPN', '-am': 'PROPN', 'arn': 'PROPN', 'opp': 'PROPN', '86': 'NUM', 'rui': 'PROPN', 'spp': 'PROPN', 'buí': 'VERB', 'ado': 'VERB', 'eza': 'NOUN', 'dá': 'VERB', 'g7': 'PROPN', 'cir': 'PROPN', 'emã': 'ADJ', '346': 'NUM', 'jek': 'PROPN', 'pi': 'PROPN', 'din': 'PROPN', 'zul': 'ADJ', 'med': 'PROPN', '7,4': 'NUM', 'gia': 'NOUN', 'fib': 'PROPN', 'pis': 'NOUN', 'ip1': 'PROPN', 'nes': 'PROPN', '4,3': 'NUM', '973': 'NUM', 'osa': 'ADJ', 'ery': 'PROPN', 'scu': 'PROPN', 'fra': 'NOUN', 'psd': 'PROPN', 'sar': 'VERB', 'avy': 'PROPN', 'lme': 'NOUN', '46': 'NUM', 'tók': 'PROPN', 'urs': 'PROPN', 'duc': 'PROPN', 'rvá': 'VERB', 'lão': 'NOUN', 'pdc': 'PROPN', 'liz': 'ADJ', 'cês': 'ADJ', 'ag': 'PROPN', '034': 'NUM', 'rca': 'ADV', 'jay': 'PROPN', '7': 'NUM', '6-1': 'NUM', 'çal': 'NOUN', 'pin': 'PROPN', 'nós': 'PRON', '109': 'NUM', 'us': 'PROPN', 'efa': 'NOUN', 'cá': 'ADV', 'ede': 'NOUN', 'tru': 'PROPN', ',85': 'NUM', 'agi': 'PROPN', 'odo': 'NOUN', '103': 'NUM', 'ost': 'PROPN', 'hoz': 'PROPN', ',83': 'NUM', '/ou': 'CCONJ', 'vie': 'PROPN', 'xiv': 'ADJ', 'kew': 'PROPN', 'oar': 'VERB', 'bas': 'NOUN', 'bnu': 'PROPN', '22h': 'NOUN', '300': 'NUM', 'cdb': 'PROPN', 'ar': 'NOUN', '912': 'NUM', 'rs': 'PROPN', 'cob': 'PROPN', 'ce': 'PROPN', 'vid': 'PROPN', 'jam': 'AUX', 'nhe': 'VERB', 'lva': 'PROPN', 'the': 'PROPN', 'nar': 'VERB', 'col': 'PROPN', '-95': 'NUM', 'úva': 'NOUN', '234': 'NUM', 'uso': 'NOUN', 'bmw': 'PROPN', 'lua': 'NOUN', 'nos': 'NOUN', 'est': 'PROPN', 'oró': 'PROPN', '16v': 'PROPN', 'chy': 'PROPN', 'eci': 'VERB', '65': 'NUM', '5º': 'ADJ', '-97': 'NOUN', 'ieu': 'PROPN', 'éon': 'PROPN', 'ene': 'NOUN', '992': 'NUM', '215': 'NUM', 'vaz': 'PROPN', 'tv': 'NOUN', 'é': 'AUX', 'oey': 'PROPN', 'edã': 'NOUN', 'oft': 'PROPN', 'van': 'PROPN', 'ial': 'ADJ', 'cd': 'NOUN', '2': 'NUM', 'trô': 'NOUN', 'cki': 'PROPN', 'gts': 'PROPN', 'nie': 'PROPN', 'ize': 'VERB', 'ife': 'NOUN', 'jim': 'PROPN', '34s': 'NOUN', 'ebe': 'VERB', '1h.': 'NOUN', 'caz': 'ADJ', '124': 'NUM', 'nec': 'PROPN', 'bla': 'PROPN', 'ile': 'PROPN', 'ptb': 'PROPN', 'ria': 'NOUN', 'com': 'ADP', 'úne': 'VERB', 'fc': 'PROPN', 'dom': 'PROPN', 'pdr': 'PROPN', 'a.': 'PROPN', 'pea': 'PROPN', 'vil': 'ADJ', '/92': 'NUM', 'lop': 'PROPN', 'ká': 'PROPN', 'pme': 'PROPN', '850': 'NUM', 'tvi': 'PROPN', 'tio': 'NOUN', 'ouz': 'PROPN', 'den': 'PROPN', 'sye': 'PROPN', 'nia': 'PROPN', 'ra,': 'PROPN', 'újo': 'PROPN', 'dre': 'NOUN', 'ôde': 'VERB', 'ven': 'PROPN', 'ago': 'PROPN', 'air': 'VERB', 'ala': 'NOUN', '9,6': 'NUM', 'dis': 'NOUN', \"'94\": 'PROPN', '1,5': 'NUM', 'ien': 'PROPN', 'zos': 'NOUN', '4,2': 'NUM', 'ung': 'PROPN', 'nó': 'NOUN', '84': 'NUM', '133': 'NUM', 'eat': 'NOUN', 'tos': 'NOUN', 'rty': 'PROPN', 'ort': 'PROPN', 'off': 'PROPN', 'ten': 'PROPN', 'ani': 'PROPN', 'asy': 'PROPN', 'ept': 'PROPN', 'akh': 'PROPN', 'ica': 'ADJ', 'xia': 'PROPN', 'gum': 'DET', 'gni': 'PROPN', '094': 'NUM', 'bbc': 'PROPN', 'pps': 'PROPN', '271': 'NUM', 'alp': 'PROPN', ',82': 'NUM', 'fus': 'PROPN', 'ode': 'VERB', 'sob': 'ADP', 'dré': 'PROPN', '5,7': 'NUM', '3º.': 'ADJ', 'tti': 'PROPN', '15': 'NUM', 'mst': 'PROPN', '933': 'NUM', '6,5': 'NUM', 'óie': 'VERB', 'tuo': 'ADJ', 'ree': 'ADJ', ')': 'PUNCT', 'ipp': 'PROPN', 'at': 'PROPN', 'h25': 'NOUN', '150': 'NUM', 'dex': 'PROPN', 'dio': 'NOUN', 'ray': 'PROPN', 'nus': 'NOUN', 'cud': 'PROPN', 'vw': 'PROPN', 'dun': 'PROPN', 'anã': 'PROPN', 'rmg': 'PROPN', 'far': 'VERB', '002': 'PROPN', 'psb': 'PROPN', 'iv': 'PROPN', '/93': 'NUM', 'loz': 'ADJ', 'ars': 'PROPN', 'nba': 'PROPN', 'lem': 'VERB', 'esi': 'PROPN', 'ban': 'PROPN', 'vêa': 'PROPN', 'cds': 'PROPN', 'ooc': 'PROPN', '1.': 'NUM', 'ndi': 'VERB', '/94': 'NUM', 'her': 'NOUN', 'pto': 'NOUN', '2º': 'PROPN', 'rgi': 'PROPN', 'uta': 'NOUN', 'sic': 'PROPN', 'ndá': 'NOUN', '953': 'NUM', 'rky': 'PROPN', 'xas': 'NOUN', 'aha': 'NOUN', 'pnv': 'PROPN', '17º': 'ADJ', '73s': 'NOUN', 'clo': 'NOUN', 'mit': 'PROPN', 'hiv': 'PROPN', 'oic': 'PROPN', 'rmã': 'NOUN', 'cor': 'NOUN', 'd+': 'ADJ', '-ba': 'PROPN', 'ti': 'PRON', 'ca3': 'PROPN', 'tão': 'NOUN', 'mat': 'PROPN', 'bbs': 'PROPN', 'tse': 'PROPN', 'ows': 'NOUN', '2,6': 'NUM', 'tar': 'VERB', '380': 'NUM', 'moz': 'PROPN', 'se': 'PRON', 'm': 'NOUN', 'sch': 'PROPN', 'de': 'ADP', 'jum': 'NOUN', 'vic': 'PROPN', 'spn': 'PROPN', '3/2': 'NOUN', \"n'\": 'ADP', 'vel': 'ADJ', 'eek': 'PROPN', 'isá': 'VERB', 'rpf': 'PROPN', 'u': 'PROPN', 'cel': 'PROPN', 'aek': 'PROPN', 'tat': 'NOUN', '536': 'NUM', '!': 'PUNCT', 'hel': 'PROPN', '70': 'NUM', 'íba': 'PROPN', '614': 'NUM', 'nhã': 'ADV', 'aço': 'NOUN', 'ai': 'INTJ', '740': 'NUM', 'oze': 'NUM', '(': 'PUNCT', 'pré': 'PART', '54': 'NUM', 'eni': 'PROPN', 'pb': 'PROPN', '4,0': 'NUM', 'gra': 'ADJ', 'ose': 'NOUN', '11h': 'NOUN', '41': 'NUM', '38': 'NUM', '906': 'NUM', 'psa': 'PROPN', 'bua': 'VERB', '142': 'NUM', 'ide': 'VERB', 'lie': 'PROPN', 'sea': 'PROPN', 'cpi': 'PROPN', 'ihe': 'PRON', 'ubs': 'NOUN', 'jab': 'PROPN', 'per': 'PROPN', '62': 'NUM', 'xus': 'PROPN', 'dar': 'VERB', 'ire': 'PROPN', 'ass': 'X', 'so': 'X', 'mbo': 'NOUN', \"a'a\": 'PROPN', '20': 'NUM', '4': 'NUM', 'poe': 'SCONJ', 'sci': 'PROPN', '4,5': 'NUM', 'ulf': 'PROPN', 'cmn': 'PROPN', '115': 'NUM', 'bmg': 'PROPN', 'öen': 'PROPN', '0,4': 'NUM', 'dou': 'VERB', 'zni': 'PROPN', \"6''\": 'NUM', '105': 'NUM', 'fm': 'PROPN', '27': 'NUM', '/84': 'PROPN', 'hou': 'VERB', 'fpj': 'PROPN', 'oxo': 'ADJ', 'ldt': 'PROPN', 'org': 'PROPN', 'poo': 'PROPN', 'zia': 'VERB', '146': 'PROPN', 'fdm': 'PROPN', 'hie': 'PROPN', 'ame': 'NOUN', 'bly': 'PROPN', 'yce': 'PROPN', 'quo': 'X', 'izo': 'VERB', 'grá': 'VERB', 'aré': 'NOUN', 'rox': 'PROPN', 'ild': 'PROPN', ',57': 'NUM', 'iou': 'VERB', '000': 'NUM', 'emi': 'PROPN', 'bop': 'PROPN', 'az!': 'PROPN', 'tty': 'PROPN', 'non': 'PROPN', 'vê': 'VERB', 'kva': 'PROPN', 'seg': 'NOUN', '2.9': 'NOUN', 'nze': 'NUM', 'rês': 'NUM', 'gan': 'PROPN', 'z': 'PROPN', 'duz': 'VERB', 'ord': 'PROPN', 'fgv': 'PROPN', 'jit': 'PROPN', '-22': 'NUM', 'eãs': 'NOUN', '9,2': 'NUM', 'rem': 'VERB', 'ah': 'INTJ', 'mel': 'PROPN', 'del': 'PROPN', ',78': 'NUM', '.m.': 'PROPN', 'ted': 'PROPN', 'ha': 'NOUN', 'jor': 'PROPN', 'ght': 'NOUN', 'h30': 'NOUN', 'smo': 'NOUN', '77ª': 'ADJ', '1m': 'NOUN', 'ato': 'NOUN', 'gor': 'NOUN', '72': 'NUM', 'hur': 'PROPN', '225': 'NUM', 'gf': 'PROPN', 'rac': 'PROPN', 'eno': 'NOUN', 'ota': 'NOUN', '[': 'PUNCT', 'raz': 'VERB', 'ará': 'VERB', 'cta': 'ADJ', 'elô': 'NOUN', 'údo': 'NOUN', 'lhe': 'PRON', '«': 'PUNCT', 'cks': 'PROPN', '972': 'NUM', 'niu': 'VERB', '999': 'NUM', 'k': 'PROPN', \"y's\": 'PROPN', 'jou': 'VERB', ',52': 'NUM', 'spa': 'PROPN', 'aar': 'PROPN', 'wyn': 'PROPN', '2,1': 'NUM', 'rso': 'NOUN', 'lya': 'PROPN', 'lve': 'VERB', 'gay': 'ADJ', 'ein': 'PROPN', ',02': 'NUM', 'cua': 'ADJ', 'lga': 'NOUN', '997': 'NUM', 'pai': 'NOUN', 'ret': 'PROPN', 'pla': 'NOUN', 'etz': 'PROPN', 'par': 'VERB', 'cha': 'VERB', 'mpa': 'NOUN', 'sox': 'PROPN', 'gcp': 'PROPN', 'ts.': 'NOUN', 'rge': 'PROPN', 'iss': 'PROPN', 'sui': 'VERB', 'cde': 'PROPN', 'bee': 'PROPN', 'ser': 'AUX', 'iv2': 'PROPN', 'ill': 'PROPN', 'eon': 'PROPN', 'nsk': 'PROPN', 'izz': 'NOUN', 'vós': 'PRON', 'óem': 'VERB', 'ila': 'PROPN', '993': 'NUM', 'uém': 'PRON', 'ata': 'NOUN', '937': 'NUM', '980': 'NUM', 'rik': 'PROPN', 'leo': 'NOUN', 'oom': 'NOUN', 'ôos': 'NOUN', '592': 'NUM', 'wat': 'PROPN', 'el': 'PROPN', 'ixe': 'NOUN', 'gma': 'NOUN', 'ral': 'ADJ', 'à': 'NOUN', '40': 'NUM', 'rof': 'PROPN', 'mãe': 'NOUN', 'ram': 'VERB', 'onu': 'PROPN', 'dim': 'PROPN', 'tum': 'PROPN', 'qui': 'ADV', 'pl': 'PROPN', 'ran': 'PROPN', 'tol': 'PROPN', 'erk': 'PROPN', '405': 'NUM', 'gel': 'PROPN', 'mac': 'PROPN', 'hop': 'NOUN', 'tta': 'PROPN', 'cei': 'VERB', '480': 'NUM', 'ses': 'NOUN', 'nca': 'ADV', 'aps': 'PROPN', 'sos': 'NOUN', 'rvs': 'PROPN', 'hei': 'VERB', '(b)': 'PROPN', 'drf': 'PROPN', 'h15': 'NOUN', 'aat': 'PROPN', 'tê': 'AUX', 'gqa': 'PROPN', 'rea': 'NOUN', 'itt': 'PROPN', 'ová': 'PROPN', 'bfe': 'PROPN', 'kki': 'PROPN', 'mês': 'NOUN', 'rtp': 'PROPN', 'vez': 'NOUN', 'já': 'ADV', '1,4': 'NUM', 'aff': 'PROPN', '132': 'NUM', 'prí': 'VERB', 'orn': 'PROPN', '5.1': 'NUM', 'ncy': 'PROPN', 'uda': 'VERB', 'upe': 'PROPN', 'aúl': 'PROPN', 'lub': 'PROPN', 'yan': 'PROPN', 'pir': 'VERB', '400': 'NUM', 'ipi': 'PROPN', '2,8': 'NUM', 'ii:': 'PROPN', 'ola': 'PROPN', 'aiu': 'VERB', 'ptu': 'PROPN', 'red': 'PROPN', 'lau': 'PROPN', 'dem': 'VERB', 'vi': 'VERB', 'te-': 'ADV', 'mãs': 'NOUN', 'ija': 'VERB', 'h46': 'NOUN', '70m': 'NUM', 'uco': 'ADV', '55': 'NUM', 'esa': 'NOUN', 'tle': 'PROPN', 'pem': 'VERB', 'zam': 'VERB', 'ck»': 'PROPN', 'och': 'PROPN', 'ual': 'ADJ', 'hak': 'PROPN', 'tst': 'PROPN', 'oja': 'NOUN', 'tim': 'PROPN', 'tia': 'NOUN', 'gue': 'VERB', 'ixo': 'NOUN', 'vam': 'VERB', 'uís': 'PROPN', 'rpo': 'NOUN', 'ías': 'PROPN', 'ces': 'NOUN', 'nap': 'PROPN', 'ety': 'X', '71': 'NUM', 'aph': 'PROPN', 'xta': 'NOUN', 'oci': 'PROPN', 'itz': 'PROPN', 'api': 'PROPN', 'jr.': 'PROPN', 'ems': 'NOUN', 'erg': 'PROPN', 'uai': 'PROPN', 'nês': 'ADJ', 'ett': 'PROPN', 'nne': 'PROPN', 'zum': 'PROPN', 'lgá': 'VERB', '817': 'NUM', 'tua': 'VERB', 'ólo': 'NOUN', 'sey': 'PROPN', '822': 'NUM', 'der': 'VERB', 'did': 'PROPN', '-só': 'ADV', 'rpr': 'PROPN', 'lou': 'VERB', 'ngº': 'NOUN', 'eet': 'PROPN', 'kos': 'PROPN', 'pio': 'NOUN', 'pó': 'NOUN', ',60': 'NUM', 'mtv': 'PROPN', 'ifa': 'PROPN', 'fes': 'NOUN', 'zza': 'PROPN', 'vos': 'ADJ', 'isy': 'PROPN', 'bia': 'VERB', '/97': 'NOUN', 'b': 'PROPN', 'rby': 'PROPN', 'eba': 'VERB', 'gos': 'NOUN', '--': 'PUNCT', 'rey': 'PROPN', '666': 'PROPN', 'ima': 'ADJ', 'ibe': 'PROPN', 'wie': 'PROPN', 'crn': 'PROPN', '987': 'NUM', 'ipa': 'NOUN', '11v': 'NUM', 'mba': 'NOUN', 'ers': 'PROPN', 'nis': 'NOUN', 'luf': 'PROPN', 'sol': 'PROPN', '930': 'NUM', 'pen': 'PROPN', 'tês': 'NOUN', 'ite': 'NOUN', 'dov': 'PROPN', 'h43': 'NOUN', 'uaí': 'PROPN', 'miê': 'NOUN', '290': 'NUM', 'ohl': 'PROPN', 'mtu': 'PROPN', 'ega': 'VERB', 'sip': 'PROPN', '%': 'SYM', 'gae': 'NOUN', 'tin': 'PROPN', 'phy': 'PROPN', 'que': 'PRON', 'côa': 'PROPN', 'don': 'PROPN', 'dê': 'VERB', 'fhc': 'PROPN', 'ína': 'NOUN', 'old': 'PROPN', 'aub': 'PROPN', 'na': 'PRON', 'ava': 'VERB', 'aim': 'PROPN', 'tur': 'PROPN', '95ª': 'ADJ', 'uck': 'X', 'ane': 'PROPN', 'rif': 'PROPN', 'êlo': 'NOUN', 'ohn': 'PROPN', 'fu': 'PROPN', \"in'\": 'PROPN', 'orf': 'PROPN', 'olm': 'PROPN', 'eas': 'NOUN', 'goa': 'NOUN', 'ank': 'PROPN', 'zer': 'VERB', 'pso': 'NOUN', 'tsu': 'PROPN', 'eje': 'VERB', '.f.': 'PROPN', '3,2': 'NUM', 'boé': 'PROPN', 'èze': 'PROPN', 'und': 'ADJ', 'bt4': 'PROPN', 'ruz': 'PROPN', '2-6': 'NUM', 'lls': 'PROPN', '4-3': 'NUM', 'ols': 'PROPN', 'rvé': 'PROPN', 'ilo': 'NOUN', 'meo': 'PROPN', 'ove': 'NUM', '87': 'NUM', '24': 'NUM', 'ic5': 'PROPN', 'nuo': 'VERB', 'ipe': 'NOUN', 'pra': 'NOUN', 'aer': 'PROPN', 'xam': 'VERB', '33': 'NUM', 'lac': 'NOUN', 'ley': 'PROPN', 'tuí': 'VERB', '.g.': 'PROPN', '185': 'NUM', 'eia': 'NOUN', 'apa': 'NOUN', 'to': 'PROPN', 'quê': 'ADV', '960': 'NUM', 'yee': 'PROPN', ',72': 'NUM', 'rer': 'VERB', 'sso': 'NOUN', 'ess': 'PROPN', 'sua': 'DET', 'miu': 'VERB', 'uou': 'VERB', 'sdb': 'PROPN', 'rás': 'ADV', 'odt': 'PROPN', 'cke': 'PROPN', 'ger': 'PROPN', '2-3': 'NUM', 'arl': 'PROPN', 'mos': 'VERB', 'uya': 'PROPN', '4d': 'NUM', 'otó': 'PROPN', ',26': 'NUM', 'too': 'PROPN', '8,7': 'NUM', 'ary': 'PROPN', 'iem': 'VERB', 'ues': 'PROPN', '372': 'NUM', 'oa': 'PROPN', '21': 'NUM', 'nks': 'PROPN', 'bom': 'ADJ', 'uzi': 'VERB', 'irs': 'PROPN', 'pcr': 'PROPN', 'dur': 'PROPN', 'soa': 'NOUN', 'má': 'ADJ', 'rah': 'PROPN', 'ibi': 'PROPN', 'téz': 'PROPN', 'v': 'PROPN', '5º.': 'ADJ', 'ggi': 'PROPN', 'ino': 'NOUN', '585': 'NUM', 'f-1': 'PROPN', 'aux': 'PROPN', 'dri': 'PROPN', 'riz': 'NOUN', 'etr': 'PROPN', '5,2': 'NUM', 'yme': 'PROPN', ',12': 'NUM', 'reg': 'PROPN', 'gne': 'PROPN', 'fos': 'NOUN', 'mil': 'NUM', 'rov': 'PROPN', 'ego': 'NOUN', 'deo': 'PROPN', 'deu': 'VERB', 'iné': 'NOUN', 'irt': 'NOUN', 'xon': 'PROPN', 'rus': 'NOUN', 'dne': 'PROPN', 'fei': 'PROPN', 'got': 'PROPN', 'kus': 'PROPN', 'asé': 'PROPN', 'dbs': 'PROPN', '17': 'NUM', 'uvi': 'VERB', 'pav': 'PROPN', 'tiã': 'NOUN', 'pac': 'PROPN', 'mpt': 'PROPN', 'eta': 'NOUN', 'uer': 'DET', 'dei': 'VERB', 'rói': 'NOUN', 'tri': 'PROPN', 'hos': 'NOUN', 'h10': 'NOUN', 'uiz': 'PROPN', 'aia': 'PROPN', 'os': 'DET', 'saw': 'PROPN', 'hbo': 'PROPN', 'os.': 'PROPN', '9º': 'ADJ', 'idi': 'VERB', 'noi': 'PROPN', '995': 'NUM', '498': 'NUM', 'cj': 'PROPN', 'von': 'PROPN', '957': 'NUM', '52': 'NUM', '66º': 'ADJ', 'doa': 'PROPN', 'way': 'PROPN', 'int': 'PROPN', '31s': 'NOUN', 'lsa': 'PROPN', 'are': 'NOUN', 'cal': 'ADJ', 'oke': 'PROPN', 'all': 'PROPN', '249': 'NUM', '46s': 'NOUN', 'roy': 'PROPN', 'lta': 'NOUN', 'esh': 'PROPN', 'ip3': 'PROPN', 'xto': 'NOUN', 'con': 'PROPN', 'dez': 'NUM', '325': 'NUM', '81ª': 'ADJ', '1-0': 'NUM', ',05': 'NUM', 'tpc': 'PROPN', 'oaz': 'PROPN', 'hot': 'PROPN', 'et': 'CCONJ', 'ith': 'PROPN', 'nça': 'NOUN', 'cer': 'VERB', '1-1': 'NUM', 'nel': 'NOUN', 'al:': 'PROPN', 'ash': 'PROPN', '.': 'PUNCT', \"o's\": 'PROPN', '805': 'NUM', 'uru': 'PROPN', 'pel': 'NOUN', 'oni': 'PROPN', 'eal': 'PROPN', 'is!': 'PROPN', '60m': 'NUM', 'v-a': 'PROPN', 'ate': 'NOUN', 'cte': 'VERB', 'in': 'PROPN', 'o': 'DET', 'bum': 'NOUN', 'niv': 'PROPN', 'tém': 'VERB', 'lim': 'PROPN', 'axá': 'PROPN', 'mg': 'PROPN', 'peã': 'NOUN', 'nu': 'ADJ', '8h': 'NOUN', 'for': 'AUX', 'koi': 'PROPN', '6,8': 'NUM', 'cms': 'PROPN', \"66'\": 'NOUN', 'opo': 'NOUN', '6-2': 'NUM', '990': 'NUM', 'san': 'PROPN', 'cat': 'PROPN', 'çam': 'VERB', '650': 'NUM', 'im': 'PROPN', 'mp': 'PROPN', 'niz': 'PROPN', 'cgd': 'PROPN', '68)': 'PROPN', ',66': 'NUM', 'los': 'NOUN', '00m': 'NUM', 'os,': 'PROPN', 'aco': 'NOUN', 'ivi': 'VERB', 'zes': 'NOUN', 'nry': 'PROPN', 'lio': 'PROPN', 'tlo': 'NOUN', '320': 'NUM', 'tvs': 'PROPN', 'uei': 'VERB', 'ada': 'VERB', 'ruy': 'PROPN', 'pal': 'ADJ', 'nao': 'PROPN', 'dia': 'NOUN', '-tv': 'NOUN', 'amb': 'PROPN', 'tro': 'NOUN', 'aca': 'PROPN', 'fez': 'VERB', 'lor': 'NOUN', '13ª': 'ADJ', '676': 'NUM', 'cuz': 'NOUN', 'kou': 'PROPN', 'lu': 'PROPN', 'til': 'ADJ', 'bai': 'PROPN', '003': 'NUM', 'las': 'NOUN', 'km': 'NOUN', 'sen': 'PROPN', 'di': 'PROPN', '22ª': 'ADJ', 'lpi': 'PROPN', '/20': 'NUM', 'uel': 'PROPN', 'lis': 'PROPN', 'ury': 'PROPN', 'eor': 'NOUN', 'cef': 'PROPN', 'êem': 'VERB', 'nti': 'VERB', 'erj': 'PROPN', 'x': 'ADP', 'pic': 'PROPN', 'yla': 'PROPN', 'kan': 'PROPN', '57s': 'NOUN', 'att': 'PROPN', 'ops': 'NOUN', 'ujo': 'DET', '2x1': 'NUM', 'sex': 'NOUN', 'bdo': 'PROPN', 'péu': 'NOUN', 'réu': 'NOUN', 'gei': 'PROPN', '482': 'NUM', 'pé': 'NOUN', 'fel': 'PROPN', '145': 'NUM', '77': 'NUM', 'aso': 'NOUN', 'afa': 'PROPN', 'ski': 'PROPN', 'gir': 'VERB', 'giz': 'NOUN', 'fin': 'PROPN', 'más': 'ADJ', 'mum': 'ADJ', '47º': 'ADJ', 'paz': 'NOUN', ',16': 'NUM', 'lco': 'NOUN', 'bar': 'VERB', 'uão': 'NOUN', ']': 'PUNCT', 'soc': 'PROPN', 'óli': 'NOUN', 'exo': 'NOUN', '310': 'NUM', 'mal': 'ADV', 'ack': 'PROPN', 'xvi': 'ADJ', 'our': 'PROPN', 'as': 'DET', 'aro': 'PROPN', 'dro': 'PROPN', 'nez': 'PROPN', 'tdf': 'PROPN', 'kny': 'PROPN', 'mpo': 'NOUN', 'tmg': 'PROPN', 'pca': 'PROPN', '1,6': 'NUM', 'kov': 'PROPN', 'zar': 'VERB', 'ftp': 'PROPN', '6º': 'PROPN', 'lp': 'NOUN', '343': 'NUM', '57': 'NUM', 'pes': 'PROPN', '82': 'NUM', 'pcp': 'PROPN', 'vêm': 'VERB', 'dfa': 'NOUN', 'shi': 'PROPN', 'pe': 'PROPN', 'lon': 'PROPN', 'gis': 'PROPN', 'gs.': 'NOUN', 'che': 'PROPN', 'tus': 'PROPN', 'rco': 'NOUN', 'obe': 'VERB', 'aa': 'PROPN', 'biu': 'VERB', '978': 'NUM', '16s': 'NOUN', 'iam': 'VERB', 'sad': 'PROPN', '788': 'NUM', 'nso': 'NOUN', 'ok': 'NOUN', '4º': 'ADJ', 'íça': 'PROPN', '204': 'NUM', 'ana': 'NOUN', 'eil': 'PROPN', 'enu': 'NOUN', '22m': 'NUM', 'das': 'VERB', 'ous': 'PROPN', '1.6': 'NUM', 'ano': 'NOUN', 'ndó': 'NOUN', 'aza': 'PROPN', 'sáb': 'NOUN', 'nin': 'PROPN', 'pov': 'PROPN', 'll': 'PROPN', 'r.': 'NOUN', 'lça': 'NOUN', 'bob': 'PROPN', '154': 'NUM', 'ir': 'VERB', 'zzi': 'PROPN', 'ork': 'PROPN', 'ryn': 'PROPN', 'õem': 'VERB', '948': 'NUM', 'pos': 'NOUN', 'esc': 'PROPN', '4-1': 'NUM', 'vá': 'AUX', 'irã': 'ADJ', 'num': 'PROPN', 'no': 'PRON', '-78': 'PROPN', 'awn': 'PROPN', 'nae': 'PROPN', '.s.': 'PROPN', 'urf': 'NOUN', 'e': 'CCONJ', '32': 'NUM', 'gti': 'PROPN', 'afé': 'NOUN', 'rlo': 'PROPN', 'ror': 'NOUN', 'oia': 'VERB', 'uto': 'NOUN', 'ind': 'PROPN', '1,3': 'NUM', 'sir': 'NOUN', 'nza': 'NOUN', 'ira': 'NOUN', 'hed': 'PROPN', 'aki': 'PROPN', 'lef': 'PROPN', 'ona': 'NOUN', 'or,': 'PROPN', 'tir': 'VERB', 'dul': 'PROPN', 'pop': 'ADJ', 'una': 'NOUN', 'els': 'PROPN', 'ero': 'NOUN', 'rl?': 'PROPN', 'mes': 'NOUN', 'uan': 'PROPN', ',40': 'NUM', '979': 'NUM', '178': 'NUM', 'kg': 'NOUN', '-13': 'NUM', 'ily': 'PROPN', 'rra': 'NOUN', 'uro': 'NOUN', 'pão': 'PROPN', '323': 'NUM', '.i.': 'PROPN', 'ida': 'NOUN', 'adá': 'PROPN', '127': 'NUM', 'vat': 'PROPN', 'aid': 'PROPN', 'uzo': 'VERB', 'ocs': 'PROPN', 'cam': 'VERB', 'rez': 'PROPN', '92': 'NUM', 'uxo': 'NOUN', 'wen': 'PROPN', 'áxi': 'NOUN', 'ume': 'NOUN', 'rte': 'NOUN', 'afi': 'PROPN', ',56': 'NUM', 'ehr': 'PROPN', 'tue': 'VERB', 'roz': 'PROPN', 'hen': 'PROPN', 'guo': 'ADJ', '875': 'NUM', 'uka': 'PROPN', 'can': 'PROPN', 'tis': 'ADJ', 'açá': 'PROPN', 'aes': 'PROPN', 'tó': 'PROPN', 'ôme': 'PROPN', 'mam': 'VERB', 'gui': 'VERB', 'nfo': 'NOUN', 'nim': 'NOUN', 'gle': 'NOUN', 'dac': 'PROPN', '195': 'NUM', 'céu': 'NOUN', 'ldi': 'PROPN', 'oit': 'PROPN', 'zil': 'NOUN', 'kee': 'PROPN', 'ali': 'ADV', 'asp': 'PROPN', '1': 'NUM', '6-4': 'NUM', 'urn': 'PROPN', 'ond': 'PROPN', 'obo': 'PROPN', 'rst': 'PROPN', '88º': 'ADJ', 'onk': 'PROPN', 'bac': 'PROPN', 'xem': 'VERB', 'vec': 'PROPN', 'ids': 'PROPN', '149': 'NUM', 'res': 'NOUN', '45': 'NUM', 'ia.': 'PROPN', ',14': 'NUM', 'fil': 'NOUN', '521': 'NUM', 'rss': 'PROPN', 'gão': 'NOUN', 'ody': 'NOUN', 'ico': 'ADJ', 'eua': 'PROPN', 'ele': 'PRON', 'ive': 'VERB', '3º': 'ADJ', '292': 'NUM', '9,4': 'NUM', '63': 'NUM', 'urg': 'PROPN', 'uor': 'NOUN', 'lyn': 'PROPN', '0,3': 'NUM', 'há': 'VERB', 'fim': 'NOUN', 'bil': 'ADJ', 'oup': 'PROPN', 'ige': 'VERB', 'mpf': 'PROPN', 'ena': 'NOUN', 'ici': 'PROPN', 'eep': 'PROPN', 'naz': 'ADJ', 'not': 'PROPN', 'nçá': 'VERB', 'aí': 'ADV', 'ist': 'PROPN', 'ogi': 'PROPN', '48º': 'ADJ', 'fia': 'NOUN', 'aju': 'PROPN', 'pôs': 'VERB', 'ido': 'VERB', 'rro': 'NOUN', 'bro': 'NOUN', 'ebo': 'VERB', '8': 'NUM', 'gou': 'VERB', 'mea': 'X', 'vés': 'ADV', 'pés': 'NOUN', 'taí': 'INTJ', 'lui': 'VERB', 'íso': 'NOUN', 'lhã': 'PROPN', '7,6': 'NUM', 'sec': 'PROPN', 'sta': 'NOUN', 'j&r': 'PROPN', '2,7': 'NUM', 'eff': 'PROPN', '4,9': 'NUM', 'rua': 'NOUN', 'uam': 'VERB', 'lah': 'PROPN', 'hdl': 'PROPN', 'eme': 'VERB', 'ovo': 'ADJ', 'ade': 'NOUN', 'etê': 'PROPN', 'adi': 'PROPN', '24º': 'ADJ', '402': 'NUM', 'meu': 'DET', 'riu': 'VERB', '-me': 'PROPN', 'meá': 'VERB', '-sc': 'PROPN', 'cml': 'PROPN', 'tho': 'PROPN', 'edy': 'PROPN', 'ilk': 'PROPN', 'cil': 'ADJ', 'ora': 'ADV', 'axi': 'NOUN', 'cus': 'NOUN', '27º': 'ADJ', '6,6': 'NUM', 'cn': 'PROPN', 'kum': 'PROPN', 'bge': 'PROPN', '7h': 'NOUN', ',71': 'NUM', 'alé': 'NOUN', 'oto': 'NOUN', 'igo': 'NOUN', 't.': 'PROPN', 'ros': 'NOUN', 'fém': 'NOUN', 'ães': 'PROPN', '16ª': 'ADJ', 'sor': 'NOUN', '2,9': 'NUM', 'nd.': 'PROPN', 'xel': 'PROPN', 'oms': 'PROPN', 'gam': 'VERB', 'ust': 'NOUN', 'egã': 'ADJ', 's': 'NOUN', '386': 'NUM', 'bwv': 'PROPN', 'orá': 'VERB', '128': 'NUM', '800': 'NUM', 'boa': 'PROPN', 'igh': 'PROPN', 'oçá': 'VERB', 'ufm': 'PROPN', 'mph': 'PROPN', 'fao': 'PROPN', 'olo': 'NOUN', 'ais': 'ADV', 'rta': 'NOUN', 'keo': 'PROPN', 'pcs': 'PROPN', '949': 'NUM', '7.ª': 'ADJ', ',69': 'NUM', 'fka': 'PROPN', 'jol': 'PROPN', 'oio': 'NOUN', 'hma': 'PROPN', 'rou': 'VERB', 'eef': 'PROPN', '45s': 'NOUN', 'ère': 'PROPN', 'eph': 'PROPN', 'atê': 'PROPN', 'nit': 'PROPN', 'hão': 'NOUN', 'nko': 'PROPN', 'lom': 'PROPN', 'lha': 'NOUN', 'obô': 'NOUN', '2,3': 'NUM', ',91': 'NUM', 'óia': 'PROPN', 'rle': 'PROPN', 'ver': 'VERB', 'sco': 'PROPN', 'pri': 'PROPN', 'usa': 'NOUN', ',00': 'NUM', 'omo': 'ADP', 'aos': 'NOUN', 'lém': 'ADV', '971': 'NUM', 'hov': 'PROPN', 'nou': 'VERB', 'net': 'PROPN', 'var': 'VERB', 'ute': 'VERB', '976': 'NUM', '81': 'NUM', 'nda': 'ADV', 'ard': 'PROPN', 'rme': 'ADJ', '962': 'NUM', 'kip': 'PROPN', '14': 'NUM', 'xão': 'NOUN', 'ynn': 'PROPN', 'psp': 'PROPN', 'e.': 'PROPN', 'ans': 'PROPN', 'xar': 'VERB', '2-4': 'NUM', '7º': 'ADJ', 'rdi': 'PROPN', 'ril': 'NOUN', 'p.': 'NOUN', 'str': 'PROPN', 'úde': 'NOUN', 'lli': 'PROPN', 'fax': 'NOUN', 'ezy': 'PROPN', 'ni': 'PROPN', 'reí': 'PROPN', 'neo': 'ADJ', '02m': 'NUM', 'ue': 'PROPN', 'pse': 'PROPN', 'amê': 'PROPN', 'ked': 'PROPN', '350': 'NUM', ',43': 'NUM', 'jfk': 'PROPN', '3,4': 'NUM', 'uva': 'NOUN', 'ços': 'NOUN', 'zis': 'NOUN', 'tch': 'PROPN', 'ára': 'VERB', ',06': 'NUM', 'rop': 'PROPN', '19h': 'NOUN', 'teu': 'VERB', 'eak': 'PROPN', ',': 'PUNCT', 'ure': 'PROPN', 'exe': 'VERB', '26': 'NUM', 'aum': 'PROPN', 'sis': 'PROPN', 'uis': 'VERB', 'i': 'PROPN', '896': 'NUM', 's/a': 'PROPN', '/95': 'NUM', 'ura': 'NOUN', '7-3': 'NUM', 'on': 'PROPN', '210': 'NUM', 'iço': 'NOUN', '2ª': 'ADJ', 'sal': 'NOUN', '/mg': 'PROPN', 'vou': 'VERB', '964': 'NUM', 'nri': 'PROPN', 'dam': 'VERB', 'eld': 'PROPN', 'ats': 'PROPN', 'use': 'PROPN', 'tam': 'VERB', 'ale': 'VERB', 'ssi': 'PROPN', 'em': 'ADP', 'cre': 'NOUN', '427': 'NUM', 'xer': 'VERB', '542': 'NUM', 'kih': 'PROPN', '4,7': 'NUM', 'hon': 'PROPN', ',50': 'NUM'}\n"
          ]
        }
      ]
    },
    {
      "cell_type": "code",
      "source": [
        "import pandas as pd\n",
        "\n",
        "# Dicionário de regras\n",
        "rules = {\n",
        "    'ADJ': [\"grande\", \"pequeno\", \"sofredor\", \"excelente\"],\n",
        "    'ADP': [\"de\", \"em\", \"para\", \"com\", \"sobre\", \"sob\"],\n",
        "    'ADV': [\"não\", \"muito\", \"aqui\", \"lá\", \"hoje\", \"sempre\"],\n",
        "    'AUX': [],\n",
        "    'CCONJ': [\"e\", \"ou\", \"mas\", \"porque\", \"portanto\"],\n",
        "    'DET': [\"o\", \"a\", \"os\", \"as\", \"um\", \"uma\"],\n",
        "    'INTJ': [\"oh\", \"ah\", \"olá\", \"tchau\"],\n",
        "    'NOUN': [\"carro\", \"casa\", \"livro\", \"pessoa\", \"df\"],\n",
        "    'NUM': [\"um\", \"dois\", \"três\", \"dez\", \"cem\"],\n",
        "    'PART': [\"não\"],\n",
        "    'PRON': [\"eu\", \"tu\", \"ele\", \"ela\", \"nós\", \"eles\"],\n",
        "    'PROPN': [\"Maria\", \"João\", \"Brasil\", \"Lisboa\"],\n",
        "    'PUNCT': [\".\", \",\", \"!\", \"?\", \";\", \":\", \"--\", \"«\", \"»\"],\n",
        "    'SCONJ': [\"que\", \"se\", \"como\", \"quando\", \"porque\"],\n",
        "    'SYM': [\"+\", \"-\", \"*\", \"/\", \"%\", \"=\"],\n",
        "    'VERB': [],\n",
        "    'X': []\n",
        "}\n",
        "\n",
        "df = pd.DataFrame(list(rules.items()), columns=['pos_tag', 'token'])\n",
        "df['token'] = df['token'].apply(set)\n"
      ],
      "metadata": {
        "id": "X1fphrrOYSFr"
      },
      "execution_count": 278,
      "outputs": []
    },
    {
      "cell_type": "markdown",
      "source": [],
      "metadata": {
        "id": "iHqWRG71tRhz"
      }
    },
    {
      "cell_type": "code",
      "source": [
        "def tag(tokens):\n",
        "  tagged = []\n",
        "  for token in tokens:\n",
        "    if token.lower() in rules['ADP']:\n",
        "       tagged.append((token,\"ADP\"))\n",
        "    elif token.lower() in rules['PRON']:\n",
        "       tagged.append((token,\"PRON\"))\n",
        "    elif token.lower() in rules['NOUN']:\n",
        "       tagged.append((token,\"NOUN\"))\n",
        "    elif token.lower() in rules['VERB']:\n",
        "       tagged.append((token,\"VERB\"))\n",
        "    elif token.lower() in rules['ADJ']:\n",
        "       tagged.append((token,\"ADJ\"))\n",
        "    elif token.lower() in rules['DET']:\n",
        "       tagged.append((token,\"DET\"))\n",
        "    elif token.lower() in rules['PUNCT']:\n",
        "       tagged.append((token,\"PUNCT\"))\n",
        "    elif token.lower() in rules['PROPN']:\n",
        "        tagged.append((token,\"PROPN\"))\n",
        "    # elif token.lower()[-3:] in suffixes:\n",
        "    #   tagged.append((token,suf_to_tag[token.lower()[-3:]]))\n",
        "    else:\n",
        "       tagged.append((token,\"_\"))\n",
        "  return tagged"
      ],
      "metadata": {
        "id": "W4ytM09SYVky"
      },
      "execution_count": 279,
      "outputs": []
    },
    {
      "cell_type": "code",
      "source": [
        "!wget http://marlovss.work.gd:8080/tomorrow/aula2/test.conllu"
      ],
      "metadata": {
        "id": "6xsx4167f0Az",
        "colab": {
          "base_uri": "https://localhost:8080/"
        },
        "outputId": "3b70482a-6db2-41c1-ae70-a80017dce7e3"
      },
      "execution_count": null,
      "outputs": [
        {
          "output_type": "stream",
          "name": "stdout",
          "text": [
            "--2024-10-22 17:43:41--  http://marlovss.work.gd:8080/tomorrow/aula2/test.conllu\n",
            "Resolving marlovss.work.gd (marlovss.work.gd)... 177.180.148.12\n",
            "Connecting to marlovss.work.gd (marlovss.work.gd)|177.180.148.12|:8080... connected.\n",
            "HTTP request sent, awaiting response... 200 OK\n",
            "Length: 1819980 (1.7M)\n",
            "Saving to: ‘test.conllu’\n",
            "\n",
            "test.conllu         100%[===================>]   1.74M   475KB/s    in 3.7s    \n",
            "\n",
            "2024-10-22 17:43:45 (475 KB/s) - ‘test.conllu’ saved [1819980/1819980]\n",
            "\n"
          ]
        }
      ]
    },
    {
      "cell_type": "code",
      "source": [
        "test = CoNLLU(files=[\"test.conllu\"])\n",
        "test_sents = [[word.form for word in sent] for sent in test.sentences]\n",
        "gold = [[(word.form.lower(),word.pos) for word in sent] for sent in test.sentences]\n",
        "predicted = [tag(sent) for sent in test_sents]"
      ],
      "metadata": {
        "id": "1FchDpmwgr1x"
      },
      "execution_count": 280,
      "outputs": []
    },
    {
      "cell_type": "code",
      "source": [
        "def accuracy(predicted,gold):\n",
        "   acertos = len([predicted[i][j][1] for i in range(len(gold)) for j in range(len(gold[i])) if predicted[i][j][1]==gold[i][j][1]])\n",
        "   totais = sum([len(sent) for sent in gold])\n",
        "   return acertos/totais\n",
        "\n",
        "def abrangencia(predicted,gold):\n",
        "  tagged_tokens = 0\n",
        "  for sent in predicted:\n",
        "    for _, predicted_tag in sent:\n",
        "      if predicted_tag != \"_\":\n",
        "        tagged_tokens += 1\n",
        "  total_tokens = 0\n",
        "  for sent in gold:\n",
        "    for _, gold_tag in sent:\n",
        "      if gold_tag != \"_\":\n",
        "        total_tokens += 1\n",
        "\n",
        "  return tagged_tokens / total_tokens\n",
        "\n",
        "def F(predicted,gold):\n",
        "  return 2 * (abrangencia(predicted,gold) * accuracy(predicted,gold)) / (abrangencia(predicted,gold) + accuracy(predicted,gold))"
      ],
      "metadata": {
        "id": "8NanoNM2hwxp"
      },
      "execution_count": 281,
      "outputs": []
    },
    {
      "cell_type": "code",
      "source": [
        "def validate():\n",
        "  gold = [[(word.form.lower(),word.pos) for word in sent] for sent in test.sentences]\n",
        "  predicted = [tag(sent) for sent in test_sents]\n",
        "  return {\n",
        "        'accuracy': accuracy(predicted,gold),\n",
        "        'coverage': abrangencia(predicted,gold),\n",
        "        \"F\" : F(predicted,gold)\n",
        "}"
      ],
      "metadata": {
        "id": "qGs1VyeFKv1j"
      },
      "execution_count": 145,
      "outputs": []
    },
    {
      "cell_type": "code",
      "source": [
        "\n",
        "print(\"Etiquetador utlizando tags do bosque + regras arbitrárias\")\n",
        "validate()"
      ],
      "metadata": {
        "colab": {
          "base_uri": "https://localhost:8080/"
        },
        "id": "ETQ_F3U1NuXx",
        "outputId": "5e6b2965-b873-4840-aefb-f59e1b7ee98e"
      },
      "execution_count": null,
      "outputs": [
        {
          "output_type": "stream",
          "name": "stdout",
          "text": [
            "Etiquetador utlizando tags do bosque + regras arbitrárias\n"
          ]
        },
        {
          "output_type": "execute_result",
          "data": {
            "text/plain": [
              "{'accuracy': 0.778945080423127,\n",
              " 'coverage': 0.9905448485726707,\n",
              " 'F': 0.8720931654830408}"
            ]
          },
          "metadata": {},
          "execution_count": 44
        }
      ]
    },
    {
      "cell_type": "code",
      "source": [
        "print(\"Etiquetador com regras arbitrárias\")\n",
        "validate()"
      ],
      "metadata": {
        "colab": {
          "base_uri": "https://localhost:8080/"
        },
        "id": "SG6g-7PwN9Ly",
        "outputId": "140a7171-5fa5-41f1-ef9f-f8a9ed97f6aa"
      },
      "execution_count": 146,
      "outputs": [
        {
          "output_type": "stream",
          "name": "stdout",
          "text": [
            "Etiquetador com regras arbitrárias\n"
          ]
        },
        {
          "output_type": "execute_result",
          "data": {
            "text/plain": [
              "{'accuracy': 0.3767569917403275,\n",
              " 'coverage': 0.40802057672801045,\n",
              " 'F': 0.39176605252931807}"
            ]
          },
          "metadata": {},
          "execution_count": 146
        }
      ]
    },
    {
      "cell_type": "code",
      "source": [
        "def humanTaggingHelper():\n",
        "    tagged_sent = next((sent for sent in predicted if any(tag == \"_\" for _, tag in sent)), None)\n",
        "    if tagged_sent:\n",
        "        print(tagged_sent)\n",
        "        tokens = [token for token, _ in tagged_sent]\n",
        "        doc = spacy.tokens.Doc(nlp.vocab, words=tokens)\n",
        "        for token, (text, tag) in zip(doc, tagged_sent):\n",
        "            if tag != \"_\":\n",
        "                token.pos_ = tag\n",
        "            else:\n",
        "                token.tag_ = tag\n",
        "        displacy.render(doc, style='dep', jupyter=True, options={'distance': 70})"
      ],
      "metadata": {
        "id": "Vvc8_0bkbTyy"
      },
      "execution_count": 282,
      "outputs": []
    },
    {
      "cell_type": "code",
      "source": [
        "def add_rule_to_df(df, category, token):\n",
        "    token_lower = token.lower()\n",
        "    idx = df[df['pos_tag'] == category].index[0]\n",
        "    df.iloc[idx,1].insert(token_lower)\n",
        "    print(f\"'{token_lower}' adicionado à regra {category}\")"
      ],
      "metadata": {
        "id": "pomWf6BJn073"
      },
      "execution_count": 288,
      "outputs": []
    },
    {
      "cell_type": "markdown",
      "source": [],
      "metadata": {
        "id": "CA2bCpUrq-o5"
      }
    },
    {
      "cell_type": "code",
      "source": [
        "categories = df.iloc[:,0]\n",
        "\n",
        "def humanTaggingHelper():\n",
        "    tagged_sent = next((sent for sent in predicted if any(tag == \"_\" for _, tag in sent)), None)\n",
        "    if tagged_sent:\n",
        "        print(tagged_sent)\n",
        "        tokens = [token for token, _ in tagged_sent]\n",
        "        doc = spacy.tokens.Doc(nlp.vocab, words=tokens)\n",
        "        for token, (text, tag) in zip(doc, tagged_sent):\n",
        "            if tag != \"_\":\n",
        "                token.pos_ = tag\n",
        "            else:\n",
        "                token.tag_ = tag\n",
        "        displacy.render(doc, style='dep', jupyter=True, options={'distance': 70})\n",
        "\n",
        "        print(\"Mapeamento de Categorias:\")\n",
        "        for i, category in enumerate(categories):\n",
        "            print(f\"{i} - {category}\")\n",
        "\n",
        "        for token, (text, tag) in zip(doc, tagged_sent):\n",
        "            if tag == \"_\":\n",
        "                new_tag = input(f\"Qual é a categoria de '{text}'? (Q para sair) \").strip().upper()\n",
        "                if new_tag == \"Q\":\n",
        "                    print(\"Encerrando o programa.\")\n",
        "                    return\n",
        "                if new_tag.isdigit() and int(new_tag) < len(categories):\n",
        "                    category = categories[int(new_tag)]\n",
        "                    add_rule_to_df(df, category, text)\n",
        "                else:\n",
        "                    print(f\"Entrada inválida ou categoria não encontrada.\")"
      ],
      "metadata": {
        "id": "h9TxTCukirj2"
      },
      "execution_count": 283,
      "outputs": []
    },
    {
      "cell_type": "code",
      "source": [
        "humanTaggingHelper()"
      ],
      "metadata": {
        "colab": {
          "base_uri": "https://localhost:8080/",
          "height": 830
        },
        "id": "tsVU9OrKjk1O",
        "outputId": "de1ec57d-81bf-46ed-d880-ce71bcf185c8"
      },
      "execution_count": 289,
      "outputs": [
        {
          "output_type": "stream",
          "name": "stdout",
          "text": [
            "[('Folha', '_'), ('--', 'PUNCT'), ('Como', '_'), ('você', '_'), ('recebeu', '_'), ('a', 'DET'), ('notícia', '_'), ('de', 'ADP'), ('que', '_'), ('seria', '_'), ('substituído', '_'), ('?', 'PUNCT')]\n"
          ]
        },
        {
          "output_type": "stream",
          "name": "stderr",
          "text": [
            "/usr/local/lib/python3.10/dist-packages/spacy/displacy/__init__.py:141: UserWarning: [W005] Doc object not parsed. This means displaCy won't be able to generate a dependency visualization for it. Make sure the Doc was processed with a model that supports dependency parsing, and not just a language class like `English()`. For more info, see the docs:\n",
            "https://spacy.io/usage/models\n",
            "  warnings.warn(Warnings.W005)\n"
          ]
        },
        {
          "output_type": "display_data",
          "data": {
            "text/plain": [
              "<IPython.core.display.HTML object>"
            ],
            "text/html": [
              "<span class=\"tex2jax_ignore\"><svg xmlns=\"http://www.w3.org/2000/svg\" xmlns:xlink=\"http://www.w3.org/1999/xlink\" xml:lang=\"pt\" id=\"8e7da7c0697842bab94fc43ea561d57b-0\" class=\"displacy\" width=\"750\" height=\"137.0\" direction=\"ltr\" style=\"max-width: none; height: 137.0px; color: #000000; background: #ffffff; font-family: Arial; direction: ltr\">\n",
              "<text class=\"displacy-token\" fill=\"currentColor\" text-anchor=\"middle\" y=\"47.0\">\n",
              "    <tspan class=\"displacy-word\" fill=\"currentColor\" x=\"50\">Folha --</tspan>\n",
              "    <tspan class=\"displacy-tag\" dy=\"2em\" fill=\"currentColor\" x=\"50\"></tspan>\n",
              "</text>\n",
              "\n",
              "<text class=\"displacy-token\" fill=\"currentColor\" text-anchor=\"middle\" y=\"47.0\">\n",
              "    <tspan class=\"displacy-word\" fill=\"currentColor\" x=\"120\">Como</tspan>\n",
              "    <tspan class=\"displacy-tag\" dy=\"2em\" fill=\"currentColor\" x=\"120\"></tspan>\n",
              "</text>\n",
              "\n",
              "<text class=\"displacy-token\" fill=\"currentColor\" text-anchor=\"middle\" y=\"47.0\">\n",
              "    <tspan class=\"displacy-word\" fill=\"currentColor\" x=\"190\">você</tspan>\n",
              "    <tspan class=\"displacy-tag\" dy=\"2em\" fill=\"currentColor\" x=\"190\"></tspan>\n",
              "</text>\n",
              "\n",
              "<text class=\"displacy-token\" fill=\"currentColor\" text-anchor=\"middle\" y=\"47.0\">\n",
              "    <tspan class=\"displacy-word\" fill=\"currentColor\" x=\"260\">recebeu</tspan>\n",
              "    <tspan class=\"displacy-tag\" dy=\"2em\" fill=\"currentColor\" x=\"260\"></tspan>\n",
              "</text>\n",
              "\n",
              "<text class=\"displacy-token\" fill=\"currentColor\" text-anchor=\"middle\" y=\"47.0\">\n",
              "    <tspan class=\"displacy-word\" fill=\"currentColor\" x=\"330\">a</tspan>\n",
              "    <tspan class=\"displacy-tag\" dy=\"2em\" fill=\"currentColor\" x=\"330\">DET</tspan>\n",
              "</text>\n",
              "\n",
              "<text class=\"displacy-token\" fill=\"currentColor\" text-anchor=\"middle\" y=\"47.0\">\n",
              "    <tspan class=\"displacy-word\" fill=\"currentColor\" x=\"400\">notícia</tspan>\n",
              "    <tspan class=\"displacy-tag\" dy=\"2em\" fill=\"currentColor\" x=\"400\"></tspan>\n",
              "</text>\n",
              "\n",
              "<text class=\"displacy-token\" fill=\"currentColor\" text-anchor=\"middle\" y=\"47.0\">\n",
              "    <tspan class=\"displacy-word\" fill=\"currentColor\" x=\"470\">de</tspan>\n",
              "    <tspan class=\"displacy-tag\" dy=\"2em\" fill=\"currentColor\" x=\"470\">ADP</tspan>\n",
              "</text>\n",
              "\n",
              "<text class=\"displacy-token\" fill=\"currentColor\" text-anchor=\"middle\" y=\"47.0\">\n",
              "    <tspan class=\"displacy-word\" fill=\"currentColor\" x=\"540\">que</tspan>\n",
              "    <tspan class=\"displacy-tag\" dy=\"2em\" fill=\"currentColor\" x=\"540\"></tspan>\n",
              "</text>\n",
              "\n",
              "<text class=\"displacy-token\" fill=\"currentColor\" text-anchor=\"middle\" y=\"47.0\">\n",
              "    <tspan class=\"displacy-word\" fill=\"currentColor\" x=\"610\">seria</tspan>\n",
              "    <tspan class=\"displacy-tag\" dy=\"2em\" fill=\"currentColor\" x=\"610\"></tspan>\n",
              "</text>\n",
              "\n",
              "<text class=\"displacy-token\" fill=\"currentColor\" text-anchor=\"middle\" y=\"47.0\">\n",
              "    <tspan class=\"displacy-word\" fill=\"currentColor\" x=\"680\">substituído ?</tspan>\n",
              "    <tspan class=\"displacy-tag\" dy=\"2em\" fill=\"currentColor\" x=\"680\"></tspan>\n",
              "</text>\n",
              "</svg></span>"
            ]
          },
          "metadata": {}
        },
        {
          "name": "stdout",
          "output_type": "stream",
          "text": [
            "Mapeamento de Categorias:\n",
            "0 - ADJ\n",
            "1 - ADP\n",
            "2 - ADV\n",
            "3 - AUX\n",
            "4 - CCONJ\n",
            "5 - DET\n",
            "6 - INTJ\n",
            "7 - NOUN\n",
            "8 - NUM\n",
            "9 - PART\n",
            "10 - PRON\n",
            "11 - PROPN\n",
            "12 - PUNCT\n",
            "13 - SCONJ\n",
            "14 - SYM\n",
            "15 - VERB\n",
            "16 - X\n",
            "Qual é a categoria de 'Folha'? (Q para sair) 11\n"
          ]
        },
        {
          "output_type": "error",
          "ename": "AttributeError",
          "evalue": "'set' object has no attribute 'insert'",
          "traceback": [
            "\u001b[0;31m---------------------------------------------------------------------------\u001b[0m",
            "\u001b[0;31mAttributeError\u001b[0m                            Traceback (most recent call last)",
            "\u001b[0;32m<ipython-input-289-30d20f376f9e>\u001b[0m in \u001b[0;36m<cell line: 1>\u001b[0;34m()\u001b[0m\n\u001b[0;32m----> 1\u001b[0;31m \u001b[0mhumanTaggingHelper\u001b[0m\u001b[0;34m(\u001b[0m\u001b[0;34m)\u001b[0m\u001b[0;34m\u001b[0m\u001b[0;34m\u001b[0m\u001b[0m\n\u001b[0m",
            "\u001b[0;32m<ipython-input-283-4f564be3d6fb>\u001b[0m in \u001b[0;36mhumanTaggingHelper\u001b[0;34m()\u001b[0m\n\u001b[1;32m     26\u001b[0m                 \u001b[0;32mif\u001b[0m \u001b[0mnew_tag\u001b[0m\u001b[0;34m.\u001b[0m\u001b[0misdigit\u001b[0m\u001b[0;34m(\u001b[0m\u001b[0;34m)\u001b[0m \u001b[0;32mand\u001b[0m \u001b[0mint\u001b[0m\u001b[0;34m(\u001b[0m\u001b[0mnew_tag\u001b[0m\u001b[0;34m)\u001b[0m \u001b[0;34m<\u001b[0m \u001b[0mlen\u001b[0m\u001b[0;34m(\u001b[0m\u001b[0mcategories\u001b[0m\u001b[0;34m)\u001b[0m\u001b[0;34m:\u001b[0m\u001b[0;34m\u001b[0m\u001b[0;34m\u001b[0m\u001b[0m\n\u001b[1;32m     27\u001b[0m                     \u001b[0mcategory\u001b[0m \u001b[0;34m=\u001b[0m \u001b[0mcategories\u001b[0m\u001b[0;34m[\u001b[0m\u001b[0mint\u001b[0m\u001b[0;34m(\u001b[0m\u001b[0mnew_tag\u001b[0m\u001b[0;34m)\u001b[0m\u001b[0;34m]\u001b[0m\u001b[0;34m\u001b[0m\u001b[0;34m\u001b[0m\u001b[0m\n\u001b[0;32m---> 28\u001b[0;31m                     \u001b[0madd_rule_to_df\u001b[0m\u001b[0;34m(\u001b[0m\u001b[0mdf\u001b[0m\u001b[0;34m,\u001b[0m \u001b[0mcategory\u001b[0m\u001b[0;34m,\u001b[0m \u001b[0mtext\u001b[0m\u001b[0;34m)\u001b[0m\u001b[0;34m\u001b[0m\u001b[0;34m\u001b[0m\u001b[0m\n\u001b[0m\u001b[1;32m     29\u001b[0m                 \u001b[0;32melse\u001b[0m\u001b[0;34m:\u001b[0m\u001b[0;34m\u001b[0m\u001b[0;34m\u001b[0m\u001b[0m\n\u001b[1;32m     30\u001b[0m                     \u001b[0mprint\u001b[0m\u001b[0;34m(\u001b[0m\u001b[0;34mf\"Entrada inválida ou categoria não encontrada.\"\u001b[0m\u001b[0;34m)\u001b[0m\u001b[0;34m\u001b[0m\u001b[0;34m\u001b[0m\u001b[0m\n",
            "\u001b[0;32m<ipython-input-288-1d50019d4f55>\u001b[0m in \u001b[0;36madd_rule_to_df\u001b[0;34m(df, category, token)\u001b[0m\n\u001b[1;32m      2\u001b[0m     \u001b[0mtoken_lower\u001b[0m \u001b[0;34m=\u001b[0m \u001b[0mtoken\u001b[0m\u001b[0;34m.\u001b[0m\u001b[0mlower\u001b[0m\u001b[0;34m(\u001b[0m\u001b[0;34m)\u001b[0m\u001b[0;34m\u001b[0m\u001b[0;34m\u001b[0m\u001b[0m\n\u001b[1;32m      3\u001b[0m     \u001b[0midx\u001b[0m \u001b[0;34m=\u001b[0m \u001b[0mdf\u001b[0m\u001b[0;34m[\u001b[0m\u001b[0mdf\u001b[0m\u001b[0;34m[\u001b[0m\u001b[0;34m'pos_tag'\u001b[0m\u001b[0;34m]\u001b[0m \u001b[0;34m==\u001b[0m \u001b[0mcategory\u001b[0m\u001b[0;34m]\u001b[0m\u001b[0;34m.\u001b[0m\u001b[0mindex\u001b[0m\u001b[0;34m[\u001b[0m\u001b[0;36m0\u001b[0m\u001b[0;34m]\u001b[0m\u001b[0;34m\u001b[0m\u001b[0;34m\u001b[0m\u001b[0m\n\u001b[0;32m----> 4\u001b[0;31m     \u001b[0mdf\u001b[0m\u001b[0;34m.\u001b[0m\u001b[0miloc\u001b[0m\u001b[0;34m[\u001b[0m\u001b[0midx\u001b[0m\u001b[0;34m,\u001b[0m\u001b[0;36m1\u001b[0m\u001b[0;34m]\u001b[0m\u001b[0;34m.\u001b[0m\u001b[0minsert\u001b[0m\u001b[0;34m(\u001b[0m\u001b[0mtoken_lower\u001b[0m\u001b[0;34m)\u001b[0m\u001b[0;34m\u001b[0m\u001b[0;34m\u001b[0m\u001b[0m\n\u001b[0m\u001b[1;32m      5\u001b[0m     \u001b[0mprint\u001b[0m\u001b[0;34m(\u001b[0m\u001b[0;34mf\"'{token_lower}' adicionado à regra {category}\"\u001b[0m\u001b[0;34m)\u001b[0m\u001b[0;34m\u001b[0m\u001b[0;34m\u001b[0m\u001b[0m\n",
            "\u001b[0;31mAttributeError\u001b[0m: 'set' object has no attribute 'insert'"
          ]
        }
      ]
    },
    {
      "cell_type": "code",
      "source": [],
      "metadata": {
        "id": "InBM8IfLspyp"
      },
      "execution_count": null,
      "outputs": []
    },
    {
      "cell_type": "code",
      "source": [
        "for sent in predicted:\n",
        "    if any(predicted_tag == \"_\" for _,predicted_tag in sent):\n",
        "      print(str(sent))\n",
        "      break"
      ],
      "metadata": {
        "colab": {
          "base_uri": "https://localhost:8080/"
        },
        "id": "7t-e9h0Dm4Gj",
        "outputId": "9ceb323e-4cad-44d6-c123-d415df3e3423"
      },
      "execution_count": 286,
      "outputs": [
        {
          "output_type": "stream",
          "name": "stdout",
          "text": [
            "[('Folha', '_'), ('--', 'PUNCT'), ('Como', '_'), ('você', '_'), ('recebeu', '_'), ('a', 'DET'), ('notícia', '_'), ('de', 'ADP'), ('que', '_'), ('seria', '_'), ('substituído', '_'), ('?', 'PUNCT')]\n"
          ]
        }
      ]
    },
    {
      "cell_type": "code",
      "source": [
        "test_sents[0]\n",
        "sent = \"\"\n",
        "for word in test_sents[0]:\n",
        "  sent += word + \" \"\n",
        "print(sent)"
      ],
      "metadata": {
        "id": "2ms0UKnE9L_U",
        "colab": {
          "base_uri": "https://localhost:8080/"
        },
        "outputId": "5fd46dd6-80cd-40e6-fbff-4ca05c9d1342"
      },
      "execution_count": null,
      "outputs": [
        {
          "output_type": "stream",
          "name": "stdout",
          "text": [
            "Folha -- Como você recebeu a notícia de que seria substituído ? \n"
          ]
        }
      ]
    },
    {
      "cell_type": "markdown",
      "source": [
        "## Fazendo nosso lematizador e analisador de flexões\n",
        "\n",
        "O lematizador e a análise flexional podem ser realizados em conuunto, uma vez que determinar as flexões nos permitem \"desfazê-las\", i.e. obter uma versão \"normalizada\" do item lexical"
      ],
      "metadata": {
        "id": "AXIDA2Tis3Al"
      }
    }
  ]
}